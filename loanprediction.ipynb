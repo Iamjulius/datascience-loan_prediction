{
  "nbformat": 4,
  "nbformat_minor": 0,
  "metadata": {
    "colab": {
      "name": "loanprediction.ipynb",
      "version": "0.3.2",
      "provenance": []
    },
    "kernelspec": {
      "name": "python3",
      "display_name": "Python 3"
      "author":"julius"
    }
  },
  "cells": [
    {
      "cell_type": "code",
      "metadata": {
        "id": "DWiiQhlapcBs",
        "colab_type": "code",
        "colab": {}
      },
      "source": [
        "import pandas as pd \n",
        "import numpy as np                     # For mathematical calculations \n",
        "import seaborn as sns                  # For data visualization \n",
        "import matplotlib.pyplot as plt        # For plotting graphs \n",
        "%matplotlib inline \n",
        "import warnings                        # To ignore any warnings warnings.filterwarnings(\"ignore\")"
      ],
      "execution_count": 0,
      "outputs": []
    },
    {
      "cell_type": "code",
      "metadata": {
        "id": "59sKyLd0zukD",
        "colab_type": "code",
        "colab": {}
      },
      "source": [
        "#Company wants to automate the loan eligibility process (real time) based on customer detail provided while filling online application form. These details are Gender, Marital Status, Education, Number of Dependents, Income, Loan Amount, Credit History and others. To automate this process, they have given a problem to identify the customers segments, those are eligible for loan amount so that they can specifically target these customers. Here they have provided a partial data set.\n",
        "\n"
      ],
      "execution_count": 0,
      "outputs": []
    },
    {
      "cell_type": "code",
      "metadata": {
        "id": "FypbZFUGyYiB",
        "colab_type": "code",
        "colab": {}
      },
      "source": [
        "train=pd.read_csv(\"train_u6lujuX_CVtuZ9i.csv\") \n",
        "test=pd.read_csv(\"test_Y3wMUE5_7gLdaTN.csv\")"
      ],
      "execution_count": 0,
      "outputs": []
    },
    {
      "cell_type": "code",
      "metadata": {
        "id": "CDqmhD3Oy5IS",
        "colab_type": "code",
        "colab": {}
      },
      "source": [
        "train_original=train.copy() \n",
        "test_original=test.copy()"
      ],
      "execution_count": 0,
      "outputs": []
    },
    {
      "cell_type": "code",
      "metadata": {
        "id": "GkvXVjL2y6AF",
        "colab_type": "code",
        "outputId": "9d11948a-7cfb-425a-aac1-b911b30b1635",
        "colab": {
          "base_uri": "https://localhost:8080/",
          "height": 90
        }
      },
      "source": [
        "train.columns"
      ],
      "execution_count": 0,
      "outputs": [
        {
          "output_type": "execute_result",
          "data": {
            "text/plain": [
              "Index(['Loan_ID', 'Gender', 'Married', 'Dependents', 'Education',\n",
              "       'Self_Employed', 'ApplicantIncome', 'CoapplicantIncome', 'LoanAmount',\n",
              "       'Loan_Amount_Term', 'Credit_History', 'Property_Area', 'Loan_Status'],\n",
              "      dtype='object')"
            ]
          },
          "metadata": {
            "tags": []
          },
          "execution_count": 6
        }
      ]
    },
    {
      "cell_type": "code",
      "metadata": {
        "id": "kouRX9cMzOrS",
        "colab_type": "code",
        "outputId": "4a14accc-ec11-4463-87f4-55ea8fdef66c",
        "colab": {
          "base_uri": "https://localhost:8080/",
          "height": 90
        }
      },
      "source": [
        "test.columns\n"
      ],
      "execution_count": 0,
      "outputs": [
        {
          "output_type": "execute_result",
          "data": {
            "text/plain": [
              "Index(['Loan_ID', 'Gender', 'Married', 'Dependents', 'Education',\n",
              "       'Self_Employed', 'ApplicantIncome', 'CoapplicantIncome', 'LoanAmount',\n",
              "       'Loan_Amount_Term', 'Credit_History', 'Property_Area'],\n",
              "      dtype='object')"
            ]
          },
          "metadata": {
            "tags": []
          },
          "execution_count": 7
        }
      ]
    },
    {
      "cell_type": "code",
      "metadata": {
        "id": "pBQcYWx5z_UF",
        "colab_type": "code",
        "outputId": "f91d6783-6dbe-4dea-85d8-ec9bca67cffd",
        "colab": {
          "base_uri": "https://localhost:8080/",
          "height": 272
        }
      },
      "source": [
        "train.dtypes"
      ],
      "execution_count": 0,
      "outputs": [
        {
          "output_type": "execute_result",
          "data": {
            "text/plain": [
              "Loan_ID               object\n",
              "Gender                object\n",
              "Married               object\n",
              "Dependents            object\n",
              "Education             object\n",
              "Self_Employed         object\n",
              "ApplicantIncome        int64\n",
              "CoapplicantIncome    float64\n",
              "LoanAmount           float64\n",
              "Loan_Amount_Term     float64\n",
              "Credit_History       float64\n",
              "Property_Area         object\n",
              "Loan_Status           object\n",
              "dtype: object"
            ]
          },
          "metadata": {
            "tags": []
          },
          "execution_count": 9
        }
      ]
    },
    {
      "cell_type": "code",
      "metadata": {
        "id": "Hlc-ODtJ0yra",
        "colab_type": "code",
        "outputId": "52c64702-06d9-41d3-f934-d7ac75c8e1bb",
        "colab": {
          "base_uri": "https://localhost:8080/",
          "height": 35
        }
      },
      "source": [
        "train.shape"
      ],
      "execution_count": 0,
      "outputs": [
        {
          "output_type": "execute_result",
          "data": {
            "text/plain": [
              "(614, 13)"
            ]
          },
          "metadata": {
            "tags": []
          },
          "execution_count": 10
        }
      ]
    },
    {
      "cell_type": "code",
      "metadata": {
        "id": "xE2XTnsy1Mel",
        "colab_type": "code",
        "outputId": "9ecb3cec-5789-4178-e39a-b4805fce1259",
        "colab": {
          "base_uri": "https://localhost:8080/",
          "height": 35
        }
      },
      "source": [
        "test.shape"
      ],
      "execution_count": 0,
      "outputs": [
        {
          "output_type": "execute_result",
          "data": {
            "text/plain": [
              "(367, 12)"
            ]
          },
          "metadata": {
            "tags": []
          },
          "execution_count": 11
        }
      ]
    },
    {
      "cell_type": "code",
      "metadata": {
        "id": "z6ft1Bys1O0R",
        "colab_type": "code",
        "colab": {}
      },
      "source": [
        "#In this section, we will do univariate analysis. It is the simplest form of analyzing data where we examine each variable individually. For categorical features we can use frequency table or bar plots which will calculate the number of each category in a particular variable. For numerical features, probability density plots can be used to look at the distribution of the variable."
      ],
      "execution_count": 0,
      "outputs": []
    },
    {
      "cell_type": "code",
      "metadata": {
        "id": "8lGCZF2v4YgC",
        "colab_type": "code",
        "colab": {}
      },
      "source": [
        "# lets look at the target variable"
      ],
      "execution_count": 0,
      "outputs": []
    },
    {
      "cell_type": "code",
      "metadata": {
        "id": "KAcNZOxv4eH_",
        "colab_type": "code",
        "outputId": "09dfc793-d4e9-4159-b2b6-a6969c076ac0",
        "colab": {
          "base_uri": "https://localhost:8080/",
          "height": 72
        }
      },
      "source": [
        "train['Loan_Status'].value_counts()"
      ],
      "execution_count": 0,
      "outputs": [
        {
          "output_type": "execute_result",
          "data": {
            "text/plain": [
              "Y    422\n",
              "N    192\n",
              "Name: Loan_Status, dtype: int64"
            ]
          },
          "metadata": {
            "tags": []
          },
          "execution_count": 12
        }
      ]
    },
    {
      "cell_type": "code",
      "metadata": {
        "id": "ujbOZYXI-cwW",
        "colab_type": "code",
        "outputId": "766d483e-37e5-4353-dc71-d9c9196ad25a",
        "colab": {
          "base_uri": "https://localhost:8080/",
          "height": 108
        }
      },
      "source": [
        "train['Dependents'].value_counts()"
      ],
      "execution_count": 0,
      "outputs": [
        {
          "output_type": "execute_result",
          "data": {
            "text/plain": [
              "0     345\n",
              "1     102\n",
              "2     101\n",
              "3+     51\n",
              "Name: Dependents, dtype: int64"
            ]
          },
          "metadata": {
            "tags": []
          },
          "execution_count": 29
        }
      ]
    },
    {
      "cell_type": "code",
      "metadata": {
        "id": "kdymSQJM4skA",
        "colab_type": "code",
        "outputId": "1b89e910-f2c9-460e-b332-294b8e05fa7e",
        "colab": {
          "base_uri": "https://localhost:8080/",
          "height": 403
        }
      },
      "source": [
        "train.head(10)"
      ],
      "execution_count": 0,
      "outputs": [
        {
          "output_type": "execute_result",
          "data": {
            "text/html": [
              "<div>\n",
              "<style scoped>\n",
              "    .dataframe tbody tr th:only-of-type {\n",
              "        vertical-align: middle;\n",
              "    }\n",
              "\n",
              "    .dataframe tbody tr th {\n",
              "        vertical-align: top;\n",
              "    }\n",
              "\n",
              "    .dataframe thead th {\n",
              "        text-align: right;\n",
              "    }\n",
              "</style>\n",
              "<table border=\"1\" class=\"dataframe\">\n",
              "  <thead>\n",
              "    <tr style=\"text-align: right;\">\n",
              "      <th></th>\n",
              "      <th>Loan_ID</th>\n",
              "      <th>Gender</th>\n",
              "      <th>Married</th>\n",
              "      <th>Dependents</th>\n",
              "      <th>Education</th>\n",
              "      <th>Self_Employed</th>\n",
              "      <th>ApplicantIncome</th>\n",
              "      <th>CoapplicantIncome</th>\n",
              "      <th>LoanAmount</th>\n",
              "      <th>Loan_Amount_Term</th>\n",
              "      <th>Credit_History</th>\n",
              "      <th>Property_Area</th>\n",
              "      <th>Loan_Status</th>\n",
              "    </tr>\n",
              "  </thead>\n",
              "  <tbody>\n",
              "    <tr>\n",
              "      <th>0</th>\n",
              "      <td>LP001002</td>\n",
              "      <td>Male</td>\n",
              "      <td>No</td>\n",
              "      <td>0</td>\n",
              "      <td>Graduate</td>\n",
              "      <td>No</td>\n",
              "      <td>5849</td>\n",
              "      <td>0.0</td>\n",
              "      <td>NaN</td>\n",
              "      <td>360.0</td>\n",
              "      <td>1.0</td>\n",
              "      <td>Urban</td>\n",
              "      <td>Y</td>\n",
              "    </tr>\n",
              "    <tr>\n",
              "      <th>1</th>\n",
              "      <td>LP001003</td>\n",
              "      <td>Male</td>\n",
              "      <td>Yes</td>\n",
              "      <td>1</td>\n",
              "      <td>Graduate</td>\n",
              "      <td>No</td>\n",
              "      <td>4583</td>\n",
              "      <td>1508.0</td>\n",
              "      <td>128.0</td>\n",
              "      <td>360.0</td>\n",
              "      <td>1.0</td>\n",
              "      <td>Rural</td>\n",
              "      <td>N</td>\n",
              "    </tr>\n",
              "    <tr>\n",
              "      <th>2</th>\n",
              "      <td>LP001005</td>\n",
              "      <td>Male</td>\n",
              "      <td>Yes</td>\n",
              "      <td>0</td>\n",
              "      <td>Graduate</td>\n",
              "      <td>Yes</td>\n",
              "      <td>3000</td>\n",
              "      <td>0.0</td>\n",
              "      <td>66.0</td>\n",
              "      <td>360.0</td>\n",
              "      <td>1.0</td>\n",
              "      <td>Urban</td>\n",
              "      <td>Y</td>\n",
              "    </tr>\n",
              "    <tr>\n",
              "      <th>3</th>\n",
              "      <td>LP001006</td>\n",
              "      <td>Male</td>\n",
              "      <td>Yes</td>\n",
              "      <td>0</td>\n",
              "      <td>Not Graduate</td>\n",
              "      <td>No</td>\n",
              "      <td>2583</td>\n",
              "      <td>2358.0</td>\n",
              "      <td>120.0</td>\n",
              "      <td>360.0</td>\n",
              "      <td>1.0</td>\n",
              "      <td>Urban</td>\n",
              "      <td>Y</td>\n",
              "    </tr>\n",
              "    <tr>\n",
              "      <th>4</th>\n",
              "      <td>LP001008</td>\n",
              "      <td>Male</td>\n",
              "      <td>No</td>\n",
              "      <td>0</td>\n",
              "      <td>Graduate</td>\n",
              "      <td>No</td>\n",
              "      <td>6000</td>\n",
              "      <td>0.0</td>\n",
              "      <td>141.0</td>\n",
              "      <td>360.0</td>\n",
              "      <td>1.0</td>\n",
              "      <td>Urban</td>\n",
              "      <td>Y</td>\n",
              "    </tr>\n",
              "    <tr>\n",
              "      <th>5</th>\n",
              "      <td>LP001011</td>\n",
              "      <td>Male</td>\n",
              "      <td>Yes</td>\n",
              "      <td>2</td>\n",
              "      <td>Graduate</td>\n",
              "      <td>Yes</td>\n",
              "      <td>5417</td>\n",
              "      <td>4196.0</td>\n",
              "      <td>267.0</td>\n",
              "      <td>360.0</td>\n",
              "      <td>1.0</td>\n",
              "      <td>Urban</td>\n",
              "      <td>Y</td>\n",
              "    </tr>\n",
              "    <tr>\n",
              "      <th>6</th>\n",
              "      <td>LP001013</td>\n",
              "      <td>Male</td>\n",
              "      <td>Yes</td>\n",
              "      <td>0</td>\n",
              "      <td>Not Graduate</td>\n",
              "      <td>No</td>\n",
              "      <td>2333</td>\n",
              "      <td>1516.0</td>\n",
              "      <td>95.0</td>\n",
              "      <td>360.0</td>\n",
              "      <td>1.0</td>\n",
              "      <td>Urban</td>\n",
              "      <td>Y</td>\n",
              "    </tr>\n",
              "    <tr>\n",
              "      <th>7</th>\n",
              "      <td>LP001014</td>\n",
              "      <td>Male</td>\n",
              "      <td>Yes</td>\n",
              "      <td>3+</td>\n",
              "      <td>Graduate</td>\n",
              "      <td>No</td>\n",
              "      <td>3036</td>\n",
              "      <td>2504.0</td>\n",
              "      <td>158.0</td>\n",
              "      <td>360.0</td>\n",
              "      <td>0.0</td>\n",
              "      <td>Semiurban</td>\n",
              "      <td>N</td>\n",
              "    </tr>\n",
              "    <tr>\n",
              "      <th>8</th>\n",
              "      <td>LP001018</td>\n",
              "      <td>Male</td>\n",
              "      <td>Yes</td>\n",
              "      <td>2</td>\n",
              "      <td>Graduate</td>\n",
              "      <td>No</td>\n",
              "      <td>4006</td>\n",
              "      <td>1526.0</td>\n",
              "      <td>168.0</td>\n",
              "      <td>360.0</td>\n",
              "      <td>1.0</td>\n",
              "      <td>Urban</td>\n",
              "      <td>Y</td>\n",
              "    </tr>\n",
              "    <tr>\n",
              "      <th>9</th>\n",
              "      <td>LP001020</td>\n",
              "      <td>Male</td>\n",
              "      <td>Yes</td>\n",
              "      <td>1</td>\n",
              "      <td>Graduate</td>\n",
              "      <td>No</td>\n",
              "      <td>12841</td>\n",
              "      <td>10968.0</td>\n",
              "      <td>349.0</td>\n",
              "      <td>360.0</td>\n",
              "      <td>1.0</td>\n",
              "      <td>Semiurban</td>\n",
              "      <td>N</td>\n",
              "    </tr>\n",
              "  </tbody>\n",
              "</table>\n",
              "</div>"
            ],
            "text/plain": [
              "    Loan_ID Gender Married Dependents     Education Self_Employed  \\\n",
              "0  LP001002   Male      No          0      Graduate            No   \n",
              "1  LP001003   Male     Yes          1      Graduate            No   \n",
              "2  LP001005   Male     Yes          0      Graduate           Yes   \n",
              "3  LP001006   Male     Yes          0  Not Graduate            No   \n",
              "4  LP001008   Male      No          0      Graduate            No   \n",
              "5  LP001011   Male     Yes          2      Graduate           Yes   \n",
              "6  LP001013   Male     Yes          0  Not Graduate            No   \n",
              "7  LP001014   Male     Yes         3+      Graduate            No   \n",
              "8  LP001018   Male     Yes          2      Graduate            No   \n",
              "9  LP001020   Male     Yes          1      Graduate            No   \n",
              "\n",
              "   ApplicantIncome  CoapplicantIncome  LoanAmount  Loan_Amount_Term  \\\n",
              "0             5849                0.0         NaN             360.0   \n",
              "1             4583             1508.0       128.0             360.0   \n",
              "2             3000                0.0        66.0             360.0   \n",
              "3             2583             2358.0       120.0             360.0   \n",
              "4             6000                0.0       141.0             360.0   \n",
              "5             5417             4196.0       267.0             360.0   \n",
              "6             2333             1516.0        95.0             360.0   \n",
              "7             3036             2504.0       158.0             360.0   \n",
              "8             4006             1526.0       168.0             360.0   \n",
              "9            12841            10968.0       349.0             360.0   \n",
              "\n",
              "   Credit_History Property_Area Loan_Status  \n",
              "0             1.0         Urban           Y  \n",
              "1             1.0         Rural           N  \n",
              "2             1.0         Urban           Y  \n",
              "3             1.0         Urban           Y  \n",
              "4             1.0         Urban           Y  \n",
              "5             1.0         Urban           Y  \n",
              "6             1.0         Urban           Y  \n",
              "7             0.0     Semiurban           N  \n",
              "8             1.0         Urban           Y  \n",
              "9             1.0     Semiurban           N  "
            ]
          },
          "metadata": {
            "tags": []
          },
          "execution_count": 13
        }
      ]
    },
    {
      "cell_type": "code",
      "metadata": {
        "id": "a9y75V1L4yxh",
        "colab_type": "code",
        "outputId": "4a0e58cb-2ce4-4ce7-ea4e-74064e42f2a3",
        "colab": {
          "base_uri": "https://localhost:8080/",
          "height": 288
        }
      },
      "source": [
        "train.describe()"
      ],
      "execution_count": 0,
      "outputs": [
        {
          "output_type": "execute_result",
          "data": {
            "text/html": [
              "<div>\n",
              "<style scoped>\n",
              "    .dataframe tbody tr th:only-of-type {\n",
              "        vertical-align: middle;\n",
              "    }\n",
              "\n",
              "    .dataframe tbody tr th {\n",
              "        vertical-align: top;\n",
              "    }\n",
              "\n",
              "    .dataframe thead th {\n",
              "        text-align: right;\n",
              "    }\n",
              "</style>\n",
              "<table border=\"1\" class=\"dataframe\">\n",
              "  <thead>\n",
              "    <tr style=\"text-align: right;\">\n",
              "      <th></th>\n",
              "      <th>ApplicantIncome</th>\n",
              "      <th>CoapplicantIncome</th>\n",
              "      <th>LoanAmount</th>\n",
              "      <th>Loan_Amount_Term</th>\n",
              "      <th>Credit_History</th>\n",
              "    </tr>\n",
              "  </thead>\n",
              "  <tbody>\n",
              "    <tr>\n",
              "      <th>count</th>\n",
              "      <td>614.000000</td>\n",
              "      <td>614.000000</td>\n",
              "      <td>592.000000</td>\n",
              "      <td>600.00000</td>\n",
              "      <td>564.000000</td>\n",
              "    </tr>\n",
              "    <tr>\n",
              "      <th>mean</th>\n",
              "      <td>5403.459283</td>\n",
              "      <td>1621.245798</td>\n",
              "      <td>146.412162</td>\n",
              "      <td>342.00000</td>\n",
              "      <td>0.842199</td>\n",
              "    </tr>\n",
              "    <tr>\n",
              "      <th>std</th>\n",
              "      <td>6109.041673</td>\n",
              "      <td>2926.248369</td>\n",
              "      <td>85.587325</td>\n",
              "      <td>65.12041</td>\n",
              "      <td>0.364878</td>\n",
              "    </tr>\n",
              "    <tr>\n",
              "      <th>min</th>\n",
              "      <td>150.000000</td>\n",
              "      <td>0.000000</td>\n",
              "      <td>9.000000</td>\n",
              "      <td>12.00000</td>\n",
              "      <td>0.000000</td>\n",
              "    </tr>\n",
              "    <tr>\n",
              "      <th>25%</th>\n",
              "      <td>2877.500000</td>\n",
              "      <td>0.000000</td>\n",
              "      <td>100.000000</td>\n",
              "      <td>360.00000</td>\n",
              "      <td>1.000000</td>\n",
              "    </tr>\n",
              "    <tr>\n",
              "      <th>50%</th>\n",
              "      <td>3812.500000</td>\n",
              "      <td>1188.500000</td>\n",
              "      <td>128.000000</td>\n",
              "      <td>360.00000</td>\n",
              "      <td>1.000000</td>\n",
              "    </tr>\n",
              "    <tr>\n",
              "      <th>75%</th>\n",
              "      <td>5795.000000</td>\n",
              "      <td>2297.250000</td>\n",
              "      <td>168.000000</td>\n",
              "      <td>360.00000</td>\n",
              "      <td>1.000000</td>\n",
              "    </tr>\n",
              "    <tr>\n",
              "      <th>max</th>\n",
              "      <td>81000.000000</td>\n",
              "      <td>41667.000000</td>\n",
              "      <td>700.000000</td>\n",
              "      <td>480.00000</td>\n",
              "      <td>1.000000</td>\n",
              "    </tr>\n",
              "  </tbody>\n",
              "</table>\n",
              "</div>"
            ],
            "text/plain": [
              "       ApplicantIncome  CoapplicantIncome  LoanAmount  Loan_Amount_Term  \\\n",
              "count       614.000000         614.000000  592.000000         600.00000   \n",
              "mean       5403.459283        1621.245798  146.412162         342.00000   \n",
              "std        6109.041673        2926.248369   85.587325          65.12041   \n",
              "min         150.000000           0.000000    9.000000          12.00000   \n",
              "25%        2877.500000           0.000000  100.000000         360.00000   \n",
              "50%        3812.500000        1188.500000  128.000000         360.00000   \n",
              "75%        5795.000000        2297.250000  168.000000         360.00000   \n",
              "max       81000.000000       41667.000000  700.000000         480.00000   \n",
              "\n",
              "       Credit_History  \n",
              "count      564.000000  \n",
              "mean         0.842199  \n",
              "std          0.364878  \n",
              "min          0.000000  \n",
              "25%          1.000000  \n",
              "50%          1.000000  \n",
              "75%          1.000000  \n",
              "max          1.000000  "
            ]
          },
          "metadata": {
            "tags": []
          },
          "execution_count": 14
        }
      ]
    },
    {
      "cell_type": "code",
      "metadata": {
        "id": "22_fsBqg49cA",
        "colab_type": "code",
        "colab": {}
      },
      "source": [
        "# Normalize can be set to True to print proportions instead of number"
      ],
      "execution_count": 0,
      "outputs": []
    },
    {
      "cell_type": "code",
      "metadata": {
        "id": "6ooAmfyS5yxV",
        "colab_type": "code",
        "outputId": "4d485877-3daa-4571-9ee4-bd1e17fd72f0",
        "colab": {
          "base_uri": "https://localhost:8080/",
          "height": 72
        }
      },
      "source": [
        "train['Loan_Status'].value_counts(normalize=True)"
      ],
      "execution_count": 0,
      "outputs": [
        {
          "output_type": "execute_result",
          "data": {
            "text/plain": [
              "Y    0.687296\n",
              "N    0.312704\n",
              "Name: Loan_Status, dtype: float64"
            ]
          },
          "metadata": {
            "tags": []
          },
          "execution_count": 16
        }
      ]
    },
    {
      "cell_type": "code",
      "metadata": {
        "id": "y3jC3zR252nb",
        "colab_type": "code",
        "outputId": "27859358-3f5a-4572-fae0-a46f5340326a",
        "colab": {
          "base_uri": "https://localhost:8080/",
          "height": 285
        }
      },
      "source": [
        "train['Loan_Status'].value_counts().plot.bar()"
      ],
      "execution_count": 0,
      "outputs": [
        {
          "output_type": "execute_result",
          "data": {
            "text/plain": [
              "<matplotlib.axes._subplots.AxesSubplot at 0x7f3c59f46518>"
            ]
          },
          "metadata": {
            "tags": []
          },
          "execution_count": 17
        },
        {
          "output_type": "display_data",
          "data": {
            "image/png": "iVBORw0KGgoAAAANSUhEUgAAAXoAAAD5CAYAAAAp8/5SAAAABHNCSVQICAgIfAhkiAAAAAlwSFlz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\n",
            "text/plain": [
              "<Figure size 432x288 with 1 Axes>"
            ]
          },
          "metadata": {
            "tags": []
          }
        }
      ]
    },
    {
      "cell_type": "code",
      "metadata": {
        "id": "lWUcpvXB5_w7",
        "colab_type": "code",
        "outputId": "4be187ba-c7cc-4a6f-f689-e75a4bb04465",
        "colab": {
          "base_uri": "https://localhost:8080/",
          "height": 1468
        }
      },
      "source": [
        " train['Gender'].value_counts(normalize=True).plot.bar(figsize=(20,10), title= 'Gender') \n",
        "plt.show()\n",
        " train['Married'].value_counts(normalize=True).plot.bar(title= 'Married') \n",
        "plt.show()\n",
        "train['Self_Employed'].value_counts(normalize=True).plot.bar(title= 'Self_Employed')\n",
        "plt.show()\n",
        "train['Credit_History'].value_counts(normalize=True).plot.bar(title= 'Credit_History') \n",
        "plt.show()"
      ],
      "execution_count": 0,
      "outputs": [
        {
          "output_type": "display_data",
          "data": {
            "image/png": "iVBORw0KGgoAAAANSUhEUgAABIQAAAJpCAYAAADc2OlQAAAABHNCSVQICAgIfAhkiAAAAAlwSFlz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\nYII=\n",
            "text/plain": [
              "<Figure size 1440x720 with 1 Axes>"
            ]
          },
          "metadata": {
            "tags": []
          }
        },
        {
          "output_type": "display_data",
          "data": {
            "image/png": "iVBORw0KGgoAAAANSUhEUgAAAXcAAAEQCAYAAABLMTQcAAAABHNCSVQICAgIfAhkiAAAAAlwSFlz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\nAAAAAElFTkSuQmCC\n",
            "text/plain": [
              "<Figure size 432x288 with 1 Axes>"
            ]
          },
          "metadata": {
            "tags": []
          }
        },
        {
          "output_type": "display_data",
          "data": {
            "image/png": "iVBORw0KGgoAAAANSUhEUgAAAXcAAAEQCAYAAABLMTQcAAAABHNCSVQICAgIfAhkiAAAAAlwSFlz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\napBxl6QG/R+/WwAywlme4gAAAABJRU5ErkJggg==\n",
            "text/plain": [
              "<Figure size 432x288 with 1 Axes>"
            ]
          },
          "metadata": {
            "tags": []
          }
        },
        {
          "output_type": "display_data",
          "data": {
            "image/png": "iVBORw0KGgoAAAANSUhEUgAAAXcAAAEOCAYAAABy7Vf3AAAABHNCSVQICAgIfAhkiAAAAAlwSFlz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\nXZIaZLhLUoP+PxQSQHKYBWifAAAAAElFTkSuQmCC\n",
            "text/plain": [
              "<Figure size 432x288 with 1 Axes>"
            ]
          },
          "metadata": {
            "tags": []
          }
        }
      ]
    },
    {
      "cell_type": "code",
      "metadata": {
        "id": "UEiD0GSJ7W3c",
        "colab_type": "code",
        "outputId": "370036f9-3f0f-4f45-9539-2157c1a67efd",
        "colab": {
          "base_uri": "https://localhost:8080/",
          "height": 673
        }
      },
      "source": [
        " train['Gender'].value_counts(normalize=True).plot.bar(figsize=(20,10), title= 'Gender') "
      ],
      "execution_count": 0,
      "outputs": [
        {
          "output_type": "execute_result",
          "data": {
            "text/plain": [
              "<matplotlib.axes._subplots.AxesSubplot at 0x7f3c58c32898>"
            ]
          },
          "metadata": {
            "tags": []
          },
          "execution_count": 22
        },
        {
          "output_type": "display_data",
          "data": {
            "image/png": "iVBORw0KGgoAAAANSUhEUgAABIQAAAJpCAYAAADc2OlQAAAABHNCSVQICAgIfAhkiAAAAAlwSFlz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\nYII=\n",
            "text/plain": [
              "<Figure size 1440x720 with 1 Axes>"
            ]
          },
          "metadata": {
            "tags": []
          }
        }
      ]
    },
    {
      "cell_type": "code",
      "metadata": {
        "id": "PoBLT2qm9tHW",
        "colab_type": "code",
        "colab": {}
      },
      "source": [
        "#independent variables"
      ],
      "execution_count": 0,
      "outputs": []
    },
    {
      "cell_type": "code",
      "metadata": {
        "id": "Z7FQmtrs73Rk",
        "colab_type": "code",
        "outputId": "282257e3-1e08-4571-f60d-3570fb4d6004",
        "colab": {
          "base_uri": "https://localhost:8080/",
          "height": 1045
        }
      },
      "source": [
        "train['Dependents'].value_counts(normalize=True).plot.bar(figsize=(24,6), title= 'Dependents')\n",
        "plt.show()\n",
        "train['Education'].value_counts(normalize=True).plot.bar(title= 'Education')\n",
        "plt.show()\n",
        "train['Property_Area'].value_counts(normalize=True).plot.bar(title= 'Property_Area') \n",
        "plt.show()"
      ],
      "execution_count": 0,
      "outputs": [
        {
          "output_type": "display_data",
          "data": {
            "image/png": "iVBORw0KGgoAAAANSUhEUgAABWMAAAF6CAYAAAB8wkowAAAABHNCSVQICAgIfAhkiAAAAAlwSFlz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\nBhBjAQAAAAAG+L95UK+goKBskgAAAABJRU5ErkJggg==\n",
            "text/plain": [
              "<Figure size 1728x432 with 1 Axes>"
            ]
          },
          "metadata": {
            "tags": []
          }
        },
        {
          "output_type": "display_data",
          "data": {
            "image/png": "iVBORw0KGgoAAAANSUhEUgAAAXcAAAFCCAYAAAAKd53gAAAABHNCSVQICAgIfAhkiAAAAAlwSFlz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\n/wNfNVLVClx+HAAAAABJRU5ErkJggg==\n",
            "text/plain": [
              "<Figure size 432x288 with 1 Axes>"
            ]
          },
          "metadata": {
            "tags": []
          }
        },
        {
          "output_type": "display_data",
          "data": {
            "image/png": "iVBORw0KGgoAAAANSUhEUgAAAX0AAAE0CAYAAADALuP1AAAABHNCSVQICAgIfAhkiAAAAAlwSFlz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\nOX1JaoihL0kNMfQlqSGGviQ15P8Dqtyt5jebBfQAAAAASUVORK5CYII=\n",
            "text/plain": [
              "<Figure size 432x288 with 1 Axes>"
            ]
          },
          "metadata": {
            "tags": []
          }
        }
      ]
    },
    {
      "cell_type": "markdown",
      "metadata": {
        "id": "JK4Cuoea-4fB",
        "colab_type": "text"
      },
      "source": [
        "Dependents have three variables\n"
      ]
    },
    {
      "cell_type": "code",
      "metadata": {
        "id": "ar39FEco99zV",
        "colab_type": "code",
        "colab": {}
      },
      "source": [
        ""
      ],
      "execution_count": 0,
      "outputs": []
    },
    {
      "cell_type": "markdown",
      "metadata": {
        "id": "C6oCjLsm_tbC",
        "colab_type": "text"
      },
      "source": [
        "Independent Variable (Numerical)\n",
        "Till now we have seen the categorical and ordinal variables and now lets visualize the numerical variables. Lets look at the distribution of Applicant income first."
      ]
    },
    {
      "cell_type": "code",
      "metadata": {
        "id": "RjTtrEN3_wip",
        "colab_type": "code",
        "outputId": "524bb841-710b-4cc6-9bb1-5e0889ad7610",
        "colab": {
          "base_uri": "https://localhost:8080/",
          "height": 474
        }
      },
      "source": [
        "sns.distplot(train['ApplicantIncome']); \n",
        "train['ApplicantIncome'].plot.graph(figsize=(16,5)) \n",
        "plt.show()"
      ],
      "execution_count": 0,
      "outputs": [
        {
          "output_type": "error",
          "ename": "AttributeError",
          "evalue": "ignored",
          "traceback": [
            "\u001b[0;31m---------------------------------------------------------------------------\u001b[0m",
            "\u001b[0;31mAttributeError\u001b[0m                            Traceback (most recent call last)",
            "\u001b[0;32m<ipython-input-37-539c4af9f847>\u001b[0m in \u001b[0;36m<module>\u001b[0;34m()\u001b[0m\n\u001b[1;32m      1\u001b[0m \u001b[0msns\u001b[0m\u001b[0;34m.\u001b[0m\u001b[0mdistplot\u001b[0m\u001b[0;34m(\u001b[0m\u001b[0mtrain\u001b[0m\u001b[0;34m[\u001b[0m\u001b[0;34m'ApplicantIncome'\u001b[0m\u001b[0;34m]\u001b[0m\u001b[0;34m)\u001b[0m\u001b[0;34m;\u001b[0m\u001b[0;34m\u001b[0m\u001b[0;34m\u001b[0m\u001b[0m\n\u001b[0;32m----> 2\u001b[0;31m \u001b[0mtrain\u001b[0m\u001b[0;34m[\u001b[0m\u001b[0;34m'ApplicantIncome'\u001b[0m\u001b[0;34m]\u001b[0m\u001b[0;34m.\u001b[0m\u001b[0mplot\u001b[0m\u001b[0;34m.\u001b[0m\u001b[0mgraph\u001b[0m\u001b[0;34m(\u001b[0m\u001b[0mfigsize\u001b[0m\u001b[0;34m=\u001b[0m\u001b[0;34m(\u001b[0m\u001b[0;36m16\u001b[0m\u001b[0;34m,\u001b[0m\u001b[0;36m5\u001b[0m\u001b[0;34m)\u001b[0m\u001b[0;34m)\u001b[0m\u001b[0;34m\u001b[0m\u001b[0;34m\u001b[0m\u001b[0m\n\u001b[0m\u001b[1;32m      3\u001b[0m \u001b[0mplt\u001b[0m\u001b[0;34m.\u001b[0m\u001b[0mshow\u001b[0m\u001b[0;34m(\u001b[0m\u001b[0;34m)\u001b[0m\u001b[0;34m\u001b[0m\u001b[0;34m\u001b[0m\u001b[0m\n",
            "\u001b[0;31mAttributeError\u001b[0m: 'SeriesPlotMethods' object has no attribute 'graph'"
          ]
        },
        {
          "output_type": "display_data",
          "data": {
            "image/png": "iVBORw0KGgoAAAANSUhEUgAAAZAAAAEKCAYAAAA8QgPpAAAABHNCSVQICAgIfAhkiAAAAAlwSFlz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\n",
            "text/plain": [
              "<Figure size 432x288 with 1 Axes>"
            ]
          },
          "metadata": {
            "tags": []
          }
        }
      ]
    },
    {
      "cell_type": "code",
      "metadata": {
        "id": "-VC1cKm2_5ul",
        "colab_type": "code",
        "outputId": "56f5dea4-86e8-47bf-c030-38ecbc582649",
        "colab": {
          "base_uri": "https://localhost:8080/",
          "height": 473
        }
      },
      "source": [
        "train.boxplot(column='ApplicantIncome', by = 'Education') #plt.suptitle(\"\")\n",
        "Text(0.5,0.98,'')"
      ],
      "execution_count": 0,
      "outputs": [
        {
          "output_type": "error",
          "ename": "NameError",
          "evalue": "ignored",
          "traceback": [
            "\u001b[0;31m---------------------------------------------------------------------------\u001b[0m",
            "\u001b[0;31mNameError\u001b[0m                                 Traceback (most recent call last)",
            "\u001b[0;32m<ipython-input-35-8ded1d5882e0>\u001b[0m in \u001b[0;36m<module>\u001b[0;34m()\u001b[0m\n\u001b[1;32m      1\u001b[0m \u001b[0mtrain\u001b[0m\u001b[0;34m.\u001b[0m\u001b[0mboxplot\u001b[0m\u001b[0;34m(\u001b[0m\u001b[0mcolumn\u001b[0m\u001b[0;34m=\u001b[0m\u001b[0;34m'ApplicantIncome'\u001b[0m\u001b[0;34m,\u001b[0m \u001b[0mby\u001b[0m \u001b[0;34m=\u001b[0m \u001b[0;34m'Education'\u001b[0m\u001b[0;34m)\u001b[0m \u001b[0;31m#plt.suptitle(\"\")\u001b[0m\u001b[0;34m\u001b[0m\u001b[0;34m\u001b[0m\u001b[0m\n\u001b[0;32m----> 2\u001b[0;31m \u001b[0mText\u001b[0m\u001b[0;34m(\u001b[0m\u001b[0;36m0.5\u001b[0m\u001b[0;34m,\u001b[0m\u001b[0;36m0.98\u001b[0m\u001b[0;34m,\u001b[0m\u001b[0;34m''\u001b[0m\u001b[0;34m)\u001b[0m\u001b[0;34m\u001b[0m\u001b[0;34m\u001b[0m\u001b[0m\n\u001b[0m",
            "\u001b[0;31mNameError\u001b[0m: name 'Text' is not defined"
          ]
        },
        {
          "output_type": "display_data",
          "data": {
            "image/png": "iVBORw0KGgoAAAANSUhEUgAAAZEAAAEcCAYAAAAGD4lRAAAABHNCSVQICAgIfAhkiAAAAAlwSFlz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\nMzMrmYOImZmVzEHEzMxK9v8B4/4FO2v1SzsAAAAASUVORK5CYII=\n",
            "text/plain": [
              "<Figure size 432x288 with 1 Axes>"
            ]
          },
          "metadata": {
            "tags": []
          }
        }
      ]
    },
    {
      "cell_type": "code",
      "metadata": {
        "id": "NpnBy8FNA5h6",
        "colab_type": "code",
        "outputId": "a5282810-54a7-4350-83d9-ab51958b733b",
        "colab": {
          "base_uri": "https://localhost:8080/",
          "height": 474
        }
      },
      "source": [
        "sns.distplot(train['CoapplicantIncome']); \n",
        "train['CoapplicantIncome'].plot.graph(figsize=(16,5)) \n",
        "plt.show()"
      ],
      "execution_count": 0,
      "outputs": [
        {
          "output_type": "error",
          "ename": "AttributeError",
          "evalue": "ignored",
          "traceback": [
            "\u001b[0;31m---------------------------------------------------------------------------\u001b[0m",
            "\u001b[0;31mAttributeError\u001b[0m                            Traceback (most recent call last)",
            "\u001b[0;32m<ipython-input-39-f1f858df84f0>\u001b[0m in \u001b[0;36m<module>\u001b[0;34m()\u001b[0m\n\u001b[1;32m      1\u001b[0m \u001b[0msns\u001b[0m\u001b[0;34m.\u001b[0m\u001b[0mdistplot\u001b[0m\u001b[0;34m(\u001b[0m\u001b[0mtrain\u001b[0m\u001b[0;34m[\u001b[0m\u001b[0;34m'CoapplicantIncome'\u001b[0m\u001b[0;34m]\u001b[0m\u001b[0;34m)\u001b[0m\u001b[0;34m;\u001b[0m\u001b[0;34m\u001b[0m\u001b[0;34m\u001b[0m\u001b[0m\n\u001b[0;32m----> 2\u001b[0;31m \u001b[0mtrain\u001b[0m\u001b[0;34m[\u001b[0m\u001b[0;34m'CoapplicantIncome'\u001b[0m\u001b[0;34m]\u001b[0m\u001b[0;34m.\u001b[0m\u001b[0mplot\u001b[0m\u001b[0;34m.\u001b[0m\u001b[0mgraph\u001b[0m\u001b[0;34m(\u001b[0m\u001b[0mfigsize\u001b[0m\u001b[0;34m=\u001b[0m\u001b[0;34m(\u001b[0m\u001b[0;36m16\u001b[0m\u001b[0;34m,\u001b[0m\u001b[0;36m5\u001b[0m\u001b[0;34m)\u001b[0m\u001b[0;34m)\u001b[0m\u001b[0;34m\u001b[0m\u001b[0;34m\u001b[0m\u001b[0m\n\u001b[0m\u001b[1;32m      3\u001b[0m \u001b[0mplt\u001b[0m\u001b[0;34m.\u001b[0m\u001b[0mshow\u001b[0m\u001b[0;34m(\u001b[0m\u001b[0;34m)\u001b[0m\u001b[0;34m\u001b[0m\u001b[0;34m\u001b[0m\u001b[0m\n",
            "\u001b[0;31mAttributeError\u001b[0m: 'SeriesPlotMethods' object has no attribute 'graph'"
          ]
        },
        {
          "output_type": "display_data",
          "data": {
            "image/png": "iVBORw0KGgoAAAANSUhEUgAAAYoAAAEKCAYAAAAMzhLIAAAABHNCSVQICAgIfAhkiAAAAAlwSFlz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\nJGgXAAAAAElFTkSuQmCC\n",
            "text/plain": [
              "<Figure size 432x288 with 1 Axes>"
            ]
          },
          "metadata": {
            "tags": []
          }
        }
      ]
    },
    {
      "cell_type": "code",
      "metadata": {
        "id": "fB4DSqVUBj8u",
        "colab_type": "code",
        "outputId": "212681d4-0770-4e6b-a1ed-a9869d31d215",
        "colab": {
          "base_uri": "https://localhost:8080/",
          "height": 344
        }
      },
      "source": [
        "#df=train.dropna() sns.distplot(df['LoanAmount']); \n",
        "train['LoanAmount'].plot.box(figsize=(16,5)) \n",
        "plt.show()"
      ],
      "execution_count": 0,
      "outputs": [
        {
          "output_type": "display_data",
          "data": {
            "image/png": "iVBORw0KGgoAAAANSUhEUgAAA6gAAAEyCAYAAAD3I/0kAAAABHNCSVQICAgIfAhkiAAAAAlwSFlz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\n/4dJGrmieT7lAAAAAElFTkSuQmCC\n",
            "text/plain": [
              "<Figure size 1152x360 with 1 Axes>"
            ]
          },
          "metadata": {
            "tags": []
          }
        }
      ]
    },
    {
      "cell_type": "code",
      "metadata": {
        "id": "H5DKJWX-Cqix",
        "colab_type": "code",
        "outputId": "cdb31318-0c0e-4683-851a-0d2741efbcb4",
        "colab": {
          "base_uri": "https://localhost:8080/",
          "height": 327
        }
      },
      "source": [
        "Gender=pd.crosstab(train['Gender'],train['Loan_Status']) \n",
        "Gender.div(Gender.sum(1).astype(float), axis=0).plot(kind=\"bar\", stacked=True, figsize=(4,4))"
      ],
      "execution_count": 0,
      "outputs": [
        {
          "output_type": "execute_result",
          "data": {
            "text/plain": [
              "<matplotlib.axes._subplots.AxesSubplot at 0x7f3c552e6e80>"
            ]
          },
          "metadata": {
            "tags": []
          },
          "execution_count": 43
        },
        {
          "output_type": "display_data",
          "data": {
            "image/png": "iVBORw0KGgoAAAANSUhEUgAAAQcAAAEkCAYAAAAik/Q/AAAABHNCSVQICAgIfAhkiAAAAAlwSFlz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\n",
            "text/plain": [
              "<Figure size 288x288 with 1 Axes>"
            ]
          },
          "metadata": {
            "tags": []
          }
        }
      ]
    },
    {
      "cell_type": "code",
      "metadata": {
        "id": "c4bCIZaNDnsB",
        "colab_type": "code",
        "outputId": "f6f11c9c-e904-4053-ace1-46dd52eaaa36",
        "colab": {
          "base_uri": "https://localhost:8080/",
          "height": 1156
        }
      },
      "source": [
        "Married=pd.crosstab(train['Married'],train['Loan_Status']) \n",
        "Dependents=pd.crosstab(train['Dependents'],train['Loan_Status']) \n",
        "Education=pd.crosstab(train['Education'],train['Loan_Status']) \n",
        "Self_Employed=pd.crosstab(train['Self_Employed'],train['Loan_Status']) \n",
        "Married.div(Married.sum(1).astype(float), axis=0).plot(kind=\"bar\", stacked=True, figsize=(4,4))\n",
        "plt.show() \n",
        "Dependents.div(Dependents.sum(1).astype(float), axis=0).plot(kind=\"bar\", stacked=True)\n",
        "plt.show() \n",
        "Education.div(Education.sum(1).astype(float), axis=0).plot(kind=\"bar\", stacked=True, figsize=(4,4)) \n",
        "plt.show() \n",
        "Self_Employed.div(Self_Employed.sum(1).astype(float), axis=0).plot(kind=\"bar\", stacked=True, figsize=(4,4))\n",
        "plt.show()"
      ],
      "execution_count": 0,
      "outputs": [
        {
          "output_type": "display_data",
          "data": {
            "image/png": "iVBORw0KGgoAAAANSUhEUgAAAQcAAAERCAYAAAB2JGIhAAAABHNCSVQICAgIfAhkiAAAAAlwSFlz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\nrkJggg==\n",
            "text/plain": [
              "<Figure size 288x288 with 1 Axes>"
            ]
          },
          "metadata": {
            "tags": []
          }
        },
        {
          "output_type": "display_data",
          "data": {
            "image/png": "iVBORw0KGgoAAAANSUhEUgAAAXcAAAEOCAYAAABy7Vf3AAAABHNCSVQICAgIfAhkiAAAAAlwSFlz\nAAALEgAACxIB0t1+/AAAADl0RVh0U29mdHdhcmUAbWF0cGxvdGxpYiB2ZXJzaW9uIDMuMC4zLCBo\ndHRwOi8vbWF0cGxvdGxpYi5vcmcvnQurowAAFd5JREFUeJzt3XmcVeWd5/HPTxAwYlygYqKFgUQc\nt9GoFU1LYpugRiYuaRv3tE3GEbVd0oNxxI6JyOi00SzdRjuImkTTRERHDXYwuEST7rgE3HCANuLS\nUuooolEREdBf/3EvWJYFdYu6cKmHz/v1qpf3POe55/zqvPBbz33uWSIzkSSVZaNGFyBJqj/DXZIK\nZLhLUoEMd0kqkOEuSQUy3CWpQIa7JBXIcJekAhnuklSg3o3a8cCBA3Pw4MGN2r0k9UgPPfTQK5nZ\n1Fm/hoX74MGDmTlzZqN2L0k9UkT8Ry39nJaRpAIZ7pJUIMNdkgrUsDl3SWpr2bJltLa2smTJkkaX\nsl7o168fzc3NbLzxxmv0fsNd0nqhtbWVzTbbjMGDBxMRjS6noTKThQsX0traypAhQ9ZoG51Oy0TE\nTyLi5Yj4f6tYHxFxWUTMi4hZEbHnGlUiaYO2ZMkSBgwYsMEHO0BEMGDAgG59iqllzv1nwMGrWT8C\nGFr9GQ38eI2rkbRBM9jf191j0Wm4Z+bvgFdX0+Vw4LqseADYIiI+0a2qJEndUo85922B+W2WW6tt\nL7bvGBGjqYzu2W677eqw63bGbV7/ba4N415vdAW18XjWj8eyvl54pNEV1GabPRq263V6KmRmTszM\nlsxsaWrq9OpZSRu4/v37r/N9XvSPV7PLF0ey2wFH8ZkDj+HBhx8H4B+umsTit9/u9P219lvb6hHu\nzwOD2iw3V9skqUe5f+Zj/Mtd/8rDv/4Fs+6awl03/JhB23wcgH+4+hcsfrvzLzhr7be21SPcpwIn\nVM+a+RzwemZ+aEpGkurh2Wef5UtHjma3A45i+FEn89zzlbi57Y7fss8hJ7DHQcdywNGn8NKChQCM\n+/4E/vuYcew/8iQ+9WeHctk1169y2y++/AoDt9qCvn37ADBwqy3Z5uNNXHbN9bzw0gK+eOTJfHHk\naABOHft/aBlxPLt8cSTnf69yHklH/dp++rjpppsYNWoUADfeeCO77roru+++O/vtt199DxK1nQp5\nPXA/8F8iojUiToyIUyLilGqXacDTwDzgKuBv6l6lJFWdccYZ/PWRhzLrrikcf8QIzvz2pQB8fu89\neOC2a3nkjus55vAvc8k/XbvyPf8+71mmT7qCP/zqOi74wUSWLVvW4bYP+vM/Y/4LL7HD57/K35z7\n9/z2/ocAOPPEY9lm6ybuufFK7rlpIgAXnXMaM2+fxKy7buC3DzzMrDl/7LDfqowfP57p06fz2GOP\nMXXq1Hocmg/o9AvVzDy2k/UJnFa3iiRpNe6//35uvvzbAPzVX36F/3XhZQC0vvgSR586lhdffoWl\nS5cxZLttVr7nK8M/T9++fejbtw8fG7glLy14leZttv7Qtvtv+hEe+vUk/vXBR7jnvhkcfepYLj73\nDEYdfdiH+k657U4mTrqZ5e8u58WXXmHOk8+w28471Px7DBs2jFGjRnHUUUdxxBFHdPUwdMp7y0gq\nwhnfvoTTv340j989hSu/+y2WvLN05boV0ywAvXr1Yvm7765yO7169WL/fVu44JuncvmF5/B/p939\noT7PPPc837vyOu6+YQKz7prCV4Z/gSVL3ulwe23PV297UdKECRO48MILmT9/PnvttRcLFy7s0u/b\nGcNdUo+y7777MvmX0wGYdPPtfGGfyumGr7+xiG0/XjkL79obb1ujbT8x71mefPq5lcuPzn6CTzZX\nLtvZrP+mvLloMQBvvPkWm26yCZt/tD8vLVjI7ff8fuV72vYD2HrrrZk7dy7vvfcet9xyy8r2p556\nin322Yfx48fT1NTE/PltzyjvPu8tI2m9tXjxYpqbm1cujxkzhh/96Ed8/biRXDrhOpq22pKf/nAc\nAOPOOpkjTz6HLTffjC8N+yzPzH+hy/tbtHgxZ5x3CX9640169+7F9oMHMfGS8wAYffwRHHz86ZU5\n9ZsmsseuO7LjfkcwaJutGfbZ3Vdu4wP97pvBxRdfzCGHHEJTUxMtLS0sWrQIgLPPPpsnn3ySzGT4\n8OHsvvvuHda0pqIyZb7utbS0ZN2fxOSFIvXl8awfj2Wn5s6dy0477VRb5w3kIqaOjklEPJSZLZ29\n12kZSSqQ0zKSNjgLX/0Tw48+5UPtd98wgQFbbdGAiurPcJe0wRmw1RY8eufkRpexVjktI0kFMtwl\nqUCGuyQVyDl3ScUYfFnXz21fnWfP3KbTPrHtnowZ/TW+f/4YAL434ToWvbWYcWd9+AvbdcmRuyR1\nQ9++fbj59t/wyquvNbqUDzDcJakbevfqxejjj+CHEyc1upQPMNwlqZtOG3UUk265ndffeLPRpaxk\nuEtSN310s/6cMPIQLrtm/Tl33nCXpDr42/9xHNdMvpW3Fjf++alguEtSXWy15eYcdeiBXHP9Lxtd\nCuCpkJIKUsupi2vTWSf/FZf/dEpDa1jBcJekblj05PsP6ti6aQCLn7qvgdW8z2kZSSqQ4S5JBTLc\nJalAhrskFchwl6QCGe6SVCBPhZRUjon713d7o+9d7erM5At/cSLfOvNERnxpGAA33nYn10y+lV9P\nuqK+tXSRI3dJWkMRwYSL/44xF3yfJUveYdFbi/m7iy/niovGNro0R+6S1B277rg9hx64H9/9p5/x\n1uK3OWHkIXx68KBGl2W4S1J3nT/mZPb88nH06bMxM6f9c6PLAQx3Seq2TT+yCUcfdhD9N92Evn37\nNLocwDl3SaqLjTYKNtpo/YnU9acSSVLd1DQtExEHA/8I9AKuzsyL263fDrgW2KLaZ2xmTqtzrZK0\neqPvbXQF641Owz0iegFXAAcCrcCMiJiamXPadDsPmJKZP46InYFpwOC1UK8krZfGnXVKo0v4gFqm\nZfYG5mXm05m5FJgMHN6uTwIfrb7eHHihfiVKkrqqlmmZbYH5bZZbgX3a9RkH3BERZwCbAgfUpTpJ\n0hqp1xeqxwI/y8xm4L8BP4+ID207IkZHxMyImLlgwYI67VpSKTKz0SWsN7p7LGoJ9+eBtpdbNVfb\n2joRmFIt6H6gHzCw/YYyc2JmtmRmS1NT05pVLKlI/fr1Y+HChQY8lWBfuHAh/fr1W+Nt1DItMwMY\nGhFDqIT6McBx7fo8BwwHfhYRO1EJd4fmkmrW3NxMa2srNX2q/9PLa7+genh97hq/tV+/fjQ3N6/x\n+zsN98xcHhGnA9OpnOb4k8ycHRHjgZmZORU4C7gqIv4nlS9XR6V/fiV1wcYbb8yQIUNq6zzuc2u3\nmHoZ93rDdl3Tee7Vc9antWv7TpvXc4Bh9S1NkrSmvEJVkgpkuEtSgQx3SSqQ4S5JBTLcJalAhrsk\nFchwl6QCGe6SVCDDXZIKZLhLUoEMd0kqkOEuSQUy3CWpQIa7JBXIcJekAhnuklQgw12SCmS4S1KB\nDHdJKpDhLkkFMtwlqUCGuyQVyHCXpAIZ7pJUIMNdkgpkuEtSgQx3SSqQ4S5JBTLcJalAhrskFchw\nl6QCGe6SVCDDXZIKVFO4R8TBEfFERMyLiLGr6HNURMyJiNkR8Yv6lilJ6orenXWIiF7AFcCBQCsw\nIyKmZuacNn2GAucCwzLztYj42NoqWJLUuVpG7nsD8zLz6cxcCkwGDm/X5yTgisx8DSAzX65vmZKk\nrqgl3LcF5rdZbq22tbUDsENE/D4iHoiIgzvaUESMjoiZETFzwYIFa1axJKlT9fpCtTcwFNgfOBa4\nKiK2aN8pMydmZktmtjQ1NdVp15Kk9moJ9+eBQW2Wm6ttbbUCUzNzWWY+A/yRSthLkhqglnCfAQyN\niCER0Qc4Bpjars+tVEbtRMRAKtM0T9exTklSF3Qa7pm5HDgdmA7MBaZk5uyIGB8Rh1W7TQcWRsQc\n4B7g7MxcuLaKliStXqenQgJk5jRgWru277R5ncCY6o8kqcG8QlWSCmS4S1KBDHdJKpDhLkkFMtwl\nqUCGuyQVyHCXpAIZ7pJUIMNdkgpkuEtSgQx3SSqQ4S5JBTLcJalAhrskFchwl6QCGe6SVCDDXZIK\nZLhLUoEMd0kqkOEuSQUy3CWpQIa7JBXIcJekAhnuklQgw12SCmS4S1KBDHdJKpDhLkkFMtwlqUCG\nuyQVyHCXpAIZ7pJUoJrCPSIOjognImJeRIxdTb+/jIiMiJb6lShJ6qpOwz0iegFXACOAnYFjI2Ln\nDvptBnwDeLDeRUqSuqaWkfvewLzMfDozlwKTgcM76Pe/ge8CS+pYnyRpDdQS7tsC89sst1bbVoqI\nPYFBmfmr1W0oIkZHxMyImLlgwYIuFytJqk23v1CNiI2AHwBnddY3MydmZktmtjQ1NXV315KkVagl\n3J8HBrVZbq62rbAZsCtwb0Q8C3wOmOqXqpLUOLWE+wxgaEQMiYg+wDHA1BUrM/P1zByYmYMzczDw\nAHBYZs5cKxVLkjrVabhn5nLgdGA6MBeYkpmzI2J8RBy2tguUJHVd71o6ZeY0YFq7tu+sou/+3S9L\nktQdXqEqSQUy3CWpQIa7JBXIcJekAtX0hao2TIOX/KLRJdTk2UYXoHXOf5udc+QuSQUy3CWpQIa7\nJBXIcJekAhnuklQgw12SCmS4S1KBDHdJKlBRFzF5YYMkVThyl6QCGe6SVCDDXZIKZLhLUoEMd0kq\nkOEuSQUy3CWpQIa7JBXIcJekAhnuklQgw12SCmS4S1KBirpxmLS+8qZ2WtccuUtSgQx3SSqQ4S5J\nBTLcJalAhrskFchwl6QC1RTuEXFwRDwREfMiYmwH68dExJyImBURd0fEJ+tfqiSpVp2Ge0T0Aq4A\nRgA7A8dGxM7tuj0CtGTmbsBNwCX1LlSSVLtaRu57A/My8+nMXApMBg5v2yEz78nMxdXFB4Dm+pYp\nSeqKWsJ9W2B+m+XWatuqnAjc3tGKiBgdETMjYuaCBQtqr1KS1CV1/UI1Ir4GtACXdrQ+MydmZktm\ntjQ1NdVz15KkNmq5t8zzwKA2y83Vtg+IiAOAbwF/npnv1Kc8SdKaqGXkPgMYGhFDIqIPcAwwtW2H\niNgDuBI4LDNfrn+ZkqSu6DTcM3M5cDowHZgLTMnM2RExPiIOq3a7FOgP3BgRj0bE1FVsTpK0DtR0\ny9/MnAZMa9f2nTavD6hzXZKkbvAKVUkqkOEuSQUy3CWpQIa7JBXIcJekAhnuklQgw12SCmS4S1KB\nDHdJKpDhLkkFMtwlqUCGuyQVyHCXpAIZ7pJUIMNdkgpkuEtSgQx3SSqQ4S5JBTLcJalAhrskFchw\nl6QCGe6SVCDDXZIKZLhLUoEMd0kqkOEuSQUy3CWpQIa7JBXIcJekAhnuklQgw12SCmS4S1KBagr3\niDg4Ip6IiHkRMbaD9X0j4obq+gcjYnC9C5Uk1a7TcI+IXsAVwAhgZ+DYiNi5XbcTgdcyc3vgh8B3\n612oJKl2tYzc9wbmZebTmbkUmAwc3q7P4cC11dc3AcMjIupXpiSpK3rX0GdbYH6b5VZgn1X1yczl\nEfE6MAB4pW2niBgNjK4uLoqIJ9ak6HVsIO1+j+6KDftzjcezfjyW9dVTjucna+lUS7jXTWZOBCau\ny312V0TMzMyWRtdRCo9n/Xgs66u041nLtMzzwKA2y83Vtg77RERvYHNgYT0KlCR1XS3hPgMYGhFD\nIqIPcAwwtV2fqcBfV1+PBH6TmVm/MiVJXdHptEx1Dv10YDrQC/hJZs6OiPHAzMycClwD/Dwi5gGv\nUvkDUIoeNY3UA3g868djWV9FHc9wgC1J5fEKVUkqkOEuSQUy3CWpQOv0PPeeICJ2pHLF7bbVpueB\nqZk5t3FVSVLXOHJvIyLOoXJ7hQD+UP0J4PqObpgmrUsRsWNEDI+I/u3aD25UTVp/ebZMGxHxR2CX\nzFzWrr0PMDszhzamsvJExNcz86eNrqOniIgzgdOAucBngG9k5i+r6x7OzD0bWV9PFxHnZubfN7qO\nenLk/kHvAdt00P6J6jrVzwWNLqCHOQnYKzO/CuwPfDsivlFd5036uu/IRhdQb865f9DfAndHxJO8\nf7O07YDtgdMbVlUPFRGzVrUK2Hpd1lKAjTJzEUBmPhsR+wM3RcQnMdzVAadl2omIjajc5rjtF6oz\nMvPdxlXVM0XES8CXgdfarwLuy8yOPiWpAxHxG2BMZj7apq038BPg+Mzs1bDieqiIeAZIKv8ePwG8\nUH2dmfmpRtZWD47c28nM94AHGl1HIf4F6N82kFaIiHvXfTk92gnA8rYNmbkcOCEirmxMST1bZg5Z\n8ToiHsnMPRpZT705cpe0wSsx3P1CVZLg940uoN4cuUvaIEXE3lTm12dExC5Uvh/698yc1uDS6sJw\nl7TBiYjzgRFUvne8k8pJFPcCBwLTM/OixlVXH4a7pA1ORDxO5WKwvsD/B5oz842I2AR4MDN3a2iB\ndeCcu6QN0fLMfDczFwNPZeYbAJn5NoVcsGi4S9oQLY2Ij1Rf77WiMSI2p5Bwd1pG0gYnIvpm5jsd\ntA8EPpGZjzegrLoy3CWpQE7LSFKBDHdJKpDhrvVaRLwbEY9GxOyIeCwizqre3K1R9TxbnZddk/d+\nNSJ2rndNUkcMd63v3s7Mz2TmLlQuMBkBnN/gmtbUVwHDXeuE4a4eIzNfBkYDp0dFr4i4NCJmRMSs\niDgZICL2j4jfRcSvIuKJiJiwYrQfEQdFxP0R8XBE3LjikXXVEfkF1fbHq8/SJSIGRMQd1U8OV9Pm\n3ukR8bWI+EP1k8WVEdGr2r4oIi6qftJ4ICK2joh9gcOAS6v9Px0RZ0bEnGrtk9fpwVTxDHf1KJn5\nNNAL+BhwIvB6Zn4W+CxwUkSsuI3r3sAZVEbKnwaOqE6nnAccUH0s3UxgTJvNv1Jt/zHwzWrb+cC/\nVT853ELl4S1ExE7A0cCwzPwM8C5wfPU9mwIPZObuwO+AkzLzPmAqcHb1k8hTwFhgj+rVkKfU7SBJ\neD939WwHAbtFxMjq8ubAUGAp8IfqHwIi4nrg88ASKmH/+4gA6APc32Z7N1f/+xBwRPX1fiteZ+av\nImLFg0eGU7n4ZUZ1W5sAL1fXLaVyL/sV2zpwFfXPAiZFxK3ArV35xaXOGO7qUSLiU1RGyS9TmSI5\nIzOnt+uzP5Un7LS14ok7d2bmsavY/IqLWt6l8/83Arg2M8/tYN2yfP8CktVt6ytU/ngcCnwrIv5r\n9QEcUrc5LaMeIyKagAnA5dXwnA6cGhEbV9fvEBGbVrvvHRFDqnPtRwP/RuUJW8MiYvtq/00jYodO\ndvs74Lhq/xHAltX2u4GREfGx6rqtqs8zXZ03gc2q/TcCBmXmPcA5VD519K/lOEi1cOSu9d0mEfEo\nsDGVx8z9HPhBdd3VwGDg4ajMjSygckYKwAzgcioPN78HuCUz34uIUcD1EdG32u884I+r2f8F1f6z\ngfuA5wAyc05EnAfcUQ3qZcBpwH+sZluTgasi4kzgGOCa6r1MArgsM/9Uw/GQauLtB1Sc6rTMNzPz\nkEbXIjWK0zKSVCBH7pJUIEfuklQgw12SCmS4S1KBDHdJKpDhLkkF+k8gaeS3jxWqMgAAAABJRU5E\nrkJggg==\n",
            "text/plain": [
              "<Figure size 432x288 with 1 Axes>"
            ]
          },
          "metadata": {
            "tags": []
          }
        },
        {
          "output_type": "display_data",
          "data": {
            "image/png": "iVBORw0KGgoAAAANSUhEUgAAAQcAAAFDCAYAAAA3YsvdAAAABHNCSVQICAgIfAhkiAAAAAlwSFlz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\nh4OZJTkczCzJ4WBmSQ4HM0v6/7Tb2ojNVxKzAAAAAElFTkSuQmCC\n",
            "text/plain": [
              "<Figure size 288x288 with 1 Axes>"
            ]
          },
          "metadata": {
            "tags": []
          }
        },
        {
          "output_type": "display_data",
          "data": {
            "image/png": "iVBORw0KGgoAAAANSUhEUgAAAQcAAAESCAYAAADwsBCPAAAABHNCSVQICAgIfAhkiAAAAAlwSFlz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\nAAAAAElFTkSuQmCC\n",
            "text/plain": [
              "<Figure size 288x288 with 1 Axes>"
            ]
          },
          "metadata": {
            "tags": []
          }
        }
      ]
    },
    {
      "cell_type": "code",
      "metadata": {
        "id": "2uzj_yPSEKp_",
        "colab_type": "code",
        "outputId": "db231b05-d96d-46b7-be0d-a590e632a543",
        "colab": {
          "base_uri": "https://localhost:8080/",
          "height": 135
        }
      },
      "source": [
        "matrix = train.corr() f, ax = plt.subplots(figsize=(9, 6)) sns.heatmap(matrix, vmax=.8, \n",
        "square=True, cmap=\"BuPu\");\n"
      ],
      "execution_count": 0,
      "outputs": [
        {
          "output_type": "error",
          "ename": "SyntaxError",
          "evalue": "ignored",
          "traceback": [
            "\u001b[0;36m  File \u001b[0;32m\"<ipython-input-49-7fbe0f3323ab>\"\u001b[0;36m, line \u001b[0;32m1\u001b[0m\n\u001b[0;31m    matrix = train.corr() f, ax = plt.subplots(figsize=(9, 6)) sns.heatmap(matrix, vmax=.8,\u001b[0m\n\u001b[0m                          ^\u001b[0m\n\u001b[0;31mSyntaxError\u001b[0m\u001b[0;31m:\u001b[0m invalid syntax\n"
          ]
        }
      ]
    },
    {
      "cell_type": "code",
      "metadata": {
        "id": "IP9K4h9SE5cg",
        "colab_type": "code",
        "outputId": "35ad77bd-8d4a-4771-e8a4-873bbe4012b3",
        "colab": {
          "base_uri": "https://localhost:8080/",
          "height": 272
        }
      },
      "source": [
        "train.isnull().sum()"
      ],
      "execution_count": 0,
      "outputs": [
        {
          "output_type": "execute_result",
          "data": {
            "text/plain": [
              "Loan_ID               0\n",
              "Gender               13\n",
              "Married               3\n",
              "Dependents           15\n",
              "Education             0\n",
              "Self_Employed        32\n",
              "ApplicantIncome       0\n",
              "CoapplicantIncome     0\n",
              "LoanAmount           22\n",
              "Loan_Amount_Term     14\n",
              "Credit_History       50\n",
              "Property_Area         0\n",
              "Loan_Status           0\n",
              "dtype: int64"
            ]
          },
          "metadata": {
            "tags": []
          },
          "execution_count": 50
        }
      ]
    },
    {
      "cell_type": "code",
      "metadata": {
        "id": "n1RiAq6ampG8",
        "colab_type": "code",
        "colab": {}
      },
      "source": [
        "train['Gender'].fillna(train['Gender'].mode()[0], inplace=True) \n",
        "train['Married'].fillna(train['Married'].mode()[0], inplace=True) \n",
        "train['Dependents'].fillna(train['Dependents'].mode()[0], inplace=True)\n",
        "train['Self_Employed'].fillna(train['Self_Employed'].mode()[0], inplace=True) \n",
        "train['Credit_History'].fillna(train['Credit_History'].mode()[0], inplace=True)"
      ],
      "execution_count": 0,
      "outputs": []
    },
    {
      "cell_type": "code",
      "metadata": {
        "id": "RCKZjzhfndqa",
        "colab_type": "code",
        "outputId": "47451ecb-8274-49da-c0af-d0f169424e29",
        "colab": {
          "base_uri": "https://localhost:8080/",
          "height": 1927
        }
      },
      "source": [
        "train.isnull()"
      ],
      "execution_count": 0,
      "outputs": [
        {
          "output_type": "execute_result",
          "data": {
            "text/html": [
              "<div>\n",
              "<style scoped>\n",
              "    .dataframe tbody tr th:only-of-type {\n",
              "        vertical-align: middle;\n",
              "    }\n",
              "\n",
              "    .dataframe tbody tr th {\n",
              "        vertical-align: top;\n",
              "    }\n",
              "\n",
              "    .dataframe thead th {\n",
              "        text-align: right;\n",
              "    }\n",
              "</style>\n",
              "<table border=\"1\" class=\"dataframe\">\n",
              "  <thead>\n",
              "    <tr style=\"text-align: right;\">\n",
              "      <th></th>\n",
              "      <th>Loan_ID</th>\n",
              "      <th>Gender</th>\n",
              "      <th>Married</th>\n",
              "      <th>Dependents</th>\n",
              "      <th>Education</th>\n",
              "      <th>Self_Employed</th>\n",
              "      <th>ApplicantIncome</th>\n",
              "      <th>CoapplicantIncome</th>\n",
              "      <th>LoanAmount</th>\n",
              "      <th>Loan_Amount_Term</th>\n",
              "      <th>Credit_History</th>\n",
              "      <th>Property_Area</th>\n",
              "      <th>Loan_Status</th>\n",
              "    </tr>\n",
              "  </thead>\n",
              "  <tbody>\n",
              "    <tr>\n",
              "      <th>0</th>\n",
              "      <td>False</td>\n",
              "      <td>False</td>\n",
              "      <td>False</td>\n",
              "      <td>False</td>\n",
              "      <td>False</td>\n",
              "      <td>False</td>\n",
              "      <td>False</td>\n",
              "      <td>False</td>\n",
              "      <td>True</td>\n",
              "      <td>False</td>\n",
              "      <td>False</td>\n",
              "      <td>False</td>\n",
              "      <td>False</td>\n",
              "    </tr>\n",
              "    <tr>\n",
              "      <th>1</th>\n",
              "      <td>False</td>\n",
              "      <td>False</td>\n",
              "      <td>False</td>\n",
              "      <td>False</td>\n",
              "      <td>False</td>\n",
              "      <td>False</td>\n",
              "      <td>False</td>\n",
              "      <td>False</td>\n",
              "      <td>False</td>\n",
              "      <td>False</td>\n",
              "      <td>False</td>\n",
              "      <td>False</td>\n",
              "      <td>False</td>\n",
              "    </tr>\n",
              "    <tr>\n",
              "      <th>2</th>\n",
              "      <td>False</td>\n",
              "      <td>False</td>\n",
              "      <td>False</td>\n",
              "      <td>False</td>\n",
              "      <td>False</td>\n",
              "      <td>False</td>\n",
              "      <td>False</td>\n",
              "      <td>False</td>\n",
              "      <td>False</td>\n",
              "      <td>False</td>\n",
              "      <td>False</td>\n",
              "      <td>False</td>\n",
              "      <td>False</td>\n",
              "    </tr>\n",
              "    <tr>\n",
              "      <th>3</th>\n",
              "      <td>False</td>\n",
              "      <td>False</td>\n",
              "      <td>False</td>\n",
              "      <td>False</td>\n",
              "      <td>False</td>\n",
              "      <td>False</td>\n",
              "      <td>False</td>\n",
              "      <td>False</td>\n",
              "      <td>False</td>\n",
              "      <td>False</td>\n",
              "      <td>False</td>\n",
              "      <td>False</td>\n",
              "      <td>False</td>\n",
              "    </tr>\n",
              "    <tr>\n",
              "      <th>4</th>\n",
              "      <td>False</td>\n",
              "      <td>False</td>\n",
              "      <td>False</td>\n",
              "      <td>False</td>\n",
              "      <td>False</td>\n",
              "      <td>False</td>\n",
              "      <td>False</td>\n",
              "      <td>False</td>\n",
              "      <td>False</td>\n",
              "      <td>False</td>\n",
              "      <td>False</td>\n",
              "      <td>False</td>\n",
              "      <td>False</td>\n",
              "    </tr>\n",
              "    <tr>\n",
              "      <th>5</th>\n",
              "      <td>False</td>\n",
              "      <td>False</td>\n",
              "      <td>False</td>\n",
              "      <td>False</td>\n",
              "      <td>False</td>\n",
              "      <td>False</td>\n",
              "      <td>False</td>\n",
              "      <td>False</td>\n",
              "      <td>False</td>\n",
              "      <td>False</td>\n",
              "      <td>False</td>\n",
              "      <td>False</td>\n",
              "      <td>False</td>\n",
              "    </tr>\n",
              "    <tr>\n",
              "      <th>6</th>\n",
              "      <td>False</td>\n",
              "      <td>False</td>\n",
              "      <td>False</td>\n",
              "      <td>False</td>\n",
              "      <td>False</td>\n",
              "      <td>False</td>\n",
              "      <td>False</td>\n",
              "      <td>False</td>\n",
              "      <td>False</td>\n",
              "      <td>False</td>\n",
              "      <td>False</td>\n",
              "      <td>False</td>\n",
              "      <td>False</td>\n",
              "    </tr>\n",
              "    <tr>\n",
              "      <th>7</th>\n",
              "      <td>False</td>\n",
              "      <td>False</td>\n",
              "      <td>False</td>\n",
              "      <td>False</td>\n",
              "      <td>False</td>\n",
              "      <td>False</td>\n",
              "      <td>False</td>\n",
              "      <td>False</td>\n",
              "      <td>False</td>\n",
              "      <td>False</td>\n",
              "      <td>False</td>\n",
              "      <td>False</td>\n",
              "      <td>False</td>\n",
              "    </tr>\n",
              "    <tr>\n",
              "      <th>8</th>\n",
              "      <td>False</td>\n",
              "      <td>False</td>\n",
              "      <td>False</td>\n",
              "      <td>False</td>\n",
              "      <td>False</td>\n",
              "      <td>False</td>\n",
              "      <td>False</td>\n",
              "      <td>False</td>\n",
              "      <td>False</td>\n",
              "      <td>False</td>\n",
              "      <td>False</td>\n",
              "      <td>False</td>\n",
              "      <td>False</td>\n",
              "    </tr>\n",
              "    <tr>\n",
              "      <th>9</th>\n",
              "      <td>False</td>\n",
              "      <td>False</td>\n",
              "      <td>False</td>\n",
              "      <td>False</td>\n",
              "      <td>False</td>\n",
              "      <td>False</td>\n",
              "      <td>False</td>\n",
              "      <td>False</td>\n",
              "      <td>False</td>\n",
              "      <td>False</td>\n",
              "      <td>False</td>\n",
              "      <td>False</td>\n",
              "      <td>False</td>\n",
              "    </tr>\n",
              "    <tr>\n",
              "      <th>10</th>\n",
              "      <td>False</td>\n",
              "      <td>False</td>\n",
              "      <td>False</td>\n",
              "      <td>False</td>\n",
              "      <td>False</td>\n",
              "      <td>False</td>\n",
              "      <td>False</td>\n",
              "      <td>False</td>\n",
              "      <td>False</td>\n",
              "      <td>False</td>\n",
              "      <td>False</td>\n",
              "      <td>False</td>\n",
              "      <td>False</td>\n",
              "    </tr>\n",
              "    <tr>\n",
              "      <th>11</th>\n",
              "      <td>False</td>\n",
              "      <td>False</td>\n",
              "      <td>False</td>\n",
              "      <td>False</td>\n",
              "      <td>False</td>\n",
              "      <td>False</td>\n",
              "      <td>False</td>\n",
              "      <td>False</td>\n",
              "      <td>False</td>\n",
              "      <td>False</td>\n",
              "      <td>False</td>\n",
              "      <td>False</td>\n",
              "      <td>False</td>\n",
              "    </tr>\n",
              "    <tr>\n",
              "      <th>12</th>\n",
              "      <td>False</td>\n",
              "      <td>False</td>\n",
              "      <td>False</td>\n",
              "      <td>False</td>\n",
              "      <td>False</td>\n",
              "      <td>False</td>\n",
              "      <td>False</td>\n",
              "      <td>False</td>\n",
              "      <td>False</td>\n",
              "      <td>False</td>\n",
              "      <td>False</td>\n",
              "      <td>False</td>\n",
              "      <td>False</td>\n",
              "    </tr>\n",
              "    <tr>\n",
              "      <th>13</th>\n",
              "      <td>False</td>\n",
              "      <td>False</td>\n",
              "      <td>False</td>\n",
              "      <td>False</td>\n",
              "      <td>False</td>\n",
              "      <td>False</td>\n",
              "      <td>False</td>\n",
              "      <td>False</td>\n",
              "      <td>False</td>\n",
              "      <td>False</td>\n",
              "      <td>False</td>\n",
              "      <td>False</td>\n",
              "      <td>False</td>\n",
              "    </tr>\n",
              "    <tr>\n",
              "      <th>14</th>\n",
              "      <td>False</td>\n",
              "      <td>False</td>\n",
              "      <td>False</td>\n",
              "      <td>False</td>\n",
              "      <td>False</td>\n",
              "      <td>False</td>\n",
              "      <td>False</td>\n",
              "      <td>False</td>\n",
              "      <td>False</td>\n",
              "      <td>False</td>\n",
              "      <td>False</td>\n",
              "      <td>False</td>\n",
              "      <td>False</td>\n",
              "    </tr>\n",
              "    <tr>\n",
              "      <th>15</th>\n",
              "      <td>False</td>\n",
              "      <td>False</td>\n",
              "      <td>False</td>\n",
              "      <td>False</td>\n",
              "      <td>False</td>\n",
              "      <td>False</td>\n",
              "      <td>False</td>\n",
              "      <td>False</td>\n",
              "      <td>False</td>\n",
              "      <td>False</td>\n",
              "      <td>False</td>\n",
              "      <td>False</td>\n",
              "      <td>False</td>\n",
              "    </tr>\n",
              "    <tr>\n",
              "      <th>16</th>\n",
              "      <td>False</td>\n",
              "      <td>False</td>\n",
              "      <td>False</td>\n",
              "      <td>False</td>\n",
              "      <td>False</td>\n",
              "      <td>False</td>\n",
              "      <td>False</td>\n",
              "      <td>False</td>\n",
              "      <td>False</td>\n",
              "      <td>False</td>\n",
              "      <td>False</td>\n",
              "      <td>False</td>\n",
              "      <td>False</td>\n",
              "    </tr>\n",
              "    <tr>\n",
              "      <th>17</th>\n",
              "      <td>False</td>\n",
              "      <td>False</td>\n",
              "      <td>False</td>\n",
              "      <td>False</td>\n",
              "      <td>False</td>\n",
              "      <td>False</td>\n",
              "      <td>False</td>\n",
              "      <td>False</td>\n",
              "      <td>False</td>\n",
              "      <td>False</td>\n",
              "      <td>False</td>\n",
              "      <td>False</td>\n",
              "      <td>False</td>\n",
              "    </tr>\n",
              "    <tr>\n",
              "      <th>18</th>\n",
              "      <td>False</td>\n",
              "      <td>False</td>\n",
              "      <td>False</td>\n",
              "      <td>False</td>\n",
              "      <td>False</td>\n",
              "      <td>False</td>\n",
              "      <td>False</td>\n",
              "      <td>False</td>\n",
              "      <td>False</td>\n",
              "      <td>False</td>\n",
              "      <td>False</td>\n",
              "      <td>False</td>\n",
              "      <td>False</td>\n",
              "    </tr>\n",
              "    <tr>\n",
              "      <th>19</th>\n",
              "      <td>False</td>\n",
              "      <td>False</td>\n",
              "      <td>False</td>\n",
              "      <td>False</td>\n",
              "      <td>False</td>\n",
              "      <td>False</td>\n",
              "      <td>False</td>\n",
              "      <td>False</td>\n",
              "      <td>False</td>\n",
              "      <td>True</td>\n",
              "      <td>False</td>\n",
              "      <td>False</td>\n",
              "      <td>False</td>\n",
              "    </tr>\n",
              "    <tr>\n",
              "      <th>20</th>\n",
              "      <td>False</td>\n",
              "      <td>False</td>\n",
              "      <td>False</td>\n",
              "      <td>False</td>\n",
              "      <td>False</td>\n",
              "      <td>False</td>\n",
              "      <td>False</td>\n",
              "      <td>False</td>\n",
              "      <td>False</td>\n",
              "      <td>False</td>\n",
              "      <td>False</td>\n",
              "      <td>False</td>\n",
              "      <td>False</td>\n",
              "    </tr>\n",
              "    <tr>\n",
              "      <th>21</th>\n",
              "      <td>False</td>\n",
              "      <td>False</td>\n",
              "      <td>False</td>\n",
              "      <td>False</td>\n",
              "      <td>False</td>\n",
              "      <td>False</td>\n",
              "      <td>False</td>\n",
              "      <td>False</td>\n",
              "      <td>False</td>\n",
              "      <td>False</td>\n",
              "      <td>False</td>\n",
              "      <td>False</td>\n",
              "      <td>False</td>\n",
              "    </tr>\n",
              "    <tr>\n",
              "      <th>22</th>\n",
              "      <td>False</td>\n",
              "      <td>False</td>\n",
              "      <td>False</td>\n",
              "      <td>False</td>\n",
              "      <td>False</td>\n",
              "      <td>False</td>\n",
              "      <td>False</td>\n",
              "      <td>False</td>\n",
              "      <td>False</td>\n",
              "      <td>False</td>\n",
              "      <td>False</td>\n",
              "      <td>False</td>\n",
              "      <td>False</td>\n",
              "    </tr>\n",
              "    <tr>\n",
              "      <th>23</th>\n",
              "      <td>False</td>\n",
              "      <td>False</td>\n",
              "      <td>False</td>\n",
              "      <td>False</td>\n",
              "      <td>False</td>\n",
              "      <td>False</td>\n",
              "      <td>False</td>\n",
              "      <td>False</td>\n",
              "      <td>False</td>\n",
              "      <td>False</td>\n",
              "      <td>False</td>\n",
              "      <td>False</td>\n",
              "      <td>False</td>\n",
              "    </tr>\n",
              "    <tr>\n",
              "      <th>24</th>\n",
              "      <td>False</td>\n",
              "      <td>False</td>\n",
              "      <td>False</td>\n",
              "      <td>False</td>\n",
              "      <td>False</td>\n",
              "      <td>False</td>\n",
              "      <td>False</td>\n",
              "      <td>False</td>\n",
              "      <td>False</td>\n",
              "      <td>False</td>\n",
              "      <td>False</td>\n",
              "      <td>False</td>\n",
              "      <td>False</td>\n",
              "    </tr>\n",
              "    <tr>\n",
              "      <th>25</th>\n",
              "      <td>False</td>\n",
              "      <td>False</td>\n",
              "      <td>False</td>\n",
              "      <td>False</td>\n",
              "      <td>False</td>\n",
              "      <td>False</td>\n",
              "      <td>False</td>\n",
              "      <td>False</td>\n",
              "      <td>False</td>\n",
              "      <td>False</td>\n",
              "      <td>False</td>\n",
              "      <td>False</td>\n",
              "      <td>False</td>\n",
              "    </tr>\n",
              "    <tr>\n",
              "      <th>26</th>\n",
              "      <td>False</td>\n",
              "      <td>False</td>\n",
              "      <td>False</td>\n",
              "      <td>False</td>\n",
              "      <td>False</td>\n",
              "      <td>False</td>\n",
              "      <td>False</td>\n",
              "      <td>False</td>\n",
              "      <td>False</td>\n",
              "      <td>False</td>\n",
              "      <td>False</td>\n",
              "      <td>False</td>\n",
              "      <td>False</td>\n",
              "    </tr>\n",
              "    <tr>\n",
              "      <th>27</th>\n",
              "      <td>False</td>\n",
              "      <td>False</td>\n",
              "      <td>False</td>\n",
              "      <td>False</td>\n",
              "      <td>False</td>\n",
              "      <td>False</td>\n",
              "      <td>False</td>\n",
              "      <td>False</td>\n",
              "      <td>False</td>\n",
              "      <td>False</td>\n",
              "      <td>False</td>\n",
              "      <td>False</td>\n",
              "      <td>False</td>\n",
              "    </tr>\n",
              "    <tr>\n",
              "      <th>28</th>\n",
              "      <td>False</td>\n",
              "      <td>False</td>\n",
              "      <td>False</td>\n",
              "      <td>False</td>\n",
              "      <td>False</td>\n",
              "      <td>False</td>\n",
              "      <td>False</td>\n",
              "      <td>False</td>\n",
              "      <td>False</td>\n",
              "      <td>False</td>\n",
              "      <td>False</td>\n",
              "      <td>False</td>\n",
              "      <td>False</td>\n",
              "    </tr>\n",
              "    <tr>\n",
              "      <th>29</th>\n",
              "      <td>False</td>\n",
              "      <td>False</td>\n",
              "      <td>False</td>\n",
              "      <td>False</td>\n",
              "      <td>False</td>\n",
              "      <td>False</td>\n",
              "      <td>False</td>\n",
              "      <td>False</td>\n",
              "      <td>False</td>\n",
              "      <td>False</td>\n",
              "      <td>False</td>\n",
              "      <td>False</td>\n",
              "      <td>False</td>\n",
              "    </tr>\n",
              "    <tr>\n",
              "      <th>...</th>\n",
              "      <td>...</td>\n",
              "      <td>...</td>\n",
              "      <td>...</td>\n",
              "      <td>...</td>\n",
              "      <td>...</td>\n",
              "      <td>...</td>\n",
              "      <td>...</td>\n",
              "      <td>...</td>\n",
              "      <td>...</td>\n",
              "      <td>...</td>\n",
              "      <td>...</td>\n",
              "      <td>...</td>\n",
              "      <td>...</td>\n",
              "    </tr>\n",
              "    <tr>\n",
              "      <th>584</th>\n",
              "      <td>False</td>\n",
              "      <td>False</td>\n",
              "      <td>False</td>\n",
              "      <td>False</td>\n",
              "      <td>False</td>\n",
              "      <td>False</td>\n",
              "      <td>False</td>\n",
              "      <td>False</td>\n",
              "      <td>False</td>\n",
              "      <td>False</td>\n",
              "      <td>False</td>\n",
              "      <td>False</td>\n",
              "      <td>False</td>\n",
              "    </tr>\n",
              "    <tr>\n",
              "      <th>585</th>\n",
              "      <td>False</td>\n",
              "      <td>False</td>\n",
              "      <td>False</td>\n",
              "      <td>False</td>\n",
              "      <td>False</td>\n",
              "      <td>False</td>\n",
              "      <td>False</td>\n",
              "      <td>False</td>\n",
              "      <td>False</td>\n",
              "      <td>False</td>\n",
              "      <td>False</td>\n",
              "      <td>False</td>\n",
              "      <td>False</td>\n",
              "    </tr>\n",
              "    <tr>\n",
              "      <th>586</th>\n",
              "      <td>False</td>\n",
              "      <td>False</td>\n",
              "      <td>False</td>\n",
              "      <td>False</td>\n",
              "      <td>False</td>\n",
              "      <td>False</td>\n",
              "      <td>False</td>\n",
              "      <td>False</td>\n",
              "      <td>False</td>\n",
              "      <td>False</td>\n",
              "      <td>False</td>\n",
              "      <td>False</td>\n",
              "      <td>False</td>\n",
              "    </tr>\n",
              "    <tr>\n",
              "      <th>587</th>\n",
              "      <td>False</td>\n",
              "      <td>False</td>\n",
              "      <td>False</td>\n",
              "      <td>False</td>\n",
              "      <td>False</td>\n",
              "      <td>False</td>\n",
              "      <td>False</td>\n",
              "      <td>False</td>\n",
              "      <td>False</td>\n",
              "      <td>False</td>\n",
              "      <td>False</td>\n",
              "      <td>False</td>\n",
              "      <td>False</td>\n",
              "    </tr>\n",
              "    <tr>\n",
              "      <th>588</th>\n",
              "      <td>False</td>\n",
              "      <td>False</td>\n",
              "      <td>False</td>\n",
              "      <td>False</td>\n",
              "      <td>False</td>\n",
              "      <td>False</td>\n",
              "      <td>False</td>\n",
              "      <td>False</td>\n",
              "      <td>False</td>\n",
              "      <td>False</td>\n",
              "      <td>False</td>\n",
              "      <td>False</td>\n",
              "      <td>False</td>\n",
              "    </tr>\n",
              "    <tr>\n",
              "      <th>589</th>\n",
              "      <td>False</td>\n",
              "      <td>False</td>\n",
              "      <td>False</td>\n",
              "      <td>False</td>\n",
              "      <td>False</td>\n",
              "      <td>False</td>\n",
              "      <td>False</td>\n",
              "      <td>False</td>\n",
              "      <td>False</td>\n",
              "      <td>False</td>\n",
              "      <td>False</td>\n",
              "      <td>False</td>\n",
              "      <td>False</td>\n",
              "    </tr>\n",
              "    <tr>\n",
              "      <th>590</th>\n",
              "      <td>False</td>\n",
              "      <td>False</td>\n",
              "      <td>False</td>\n",
              "      <td>False</td>\n",
              "      <td>False</td>\n",
              "      <td>False</td>\n",
              "      <td>False</td>\n",
              "      <td>False</td>\n",
              "      <td>False</td>\n",
              "      <td>False</td>\n",
              "      <td>False</td>\n",
              "      <td>False</td>\n",
              "      <td>False</td>\n",
              "    </tr>\n",
              "    <tr>\n",
              "      <th>591</th>\n",
              "      <td>False</td>\n",
              "      <td>False</td>\n",
              "      <td>False</td>\n",
              "      <td>False</td>\n",
              "      <td>False</td>\n",
              "      <td>False</td>\n",
              "      <td>False</td>\n",
              "      <td>False</td>\n",
              "      <td>False</td>\n",
              "      <td>False</td>\n",
              "      <td>False</td>\n",
              "      <td>False</td>\n",
              "      <td>False</td>\n",
              "    </tr>\n",
              "    <tr>\n",
              "      <th>592</th>\n",
              "      <td>False</td>\n",
              "      <td>False</td>\n",
              "      <td>False</td>\n",
              "      <td>False</td>\n",
              "      <td>False</td>\n",
              "      <td>False</td>\n",
              "      <td>False</td>\n",
              "      <td>False</td>\n",
              "      <td>False</td>\n",
              "      <td>False</td>\n",
              "      <td>False</td>\n",
              "      <td>False</td>\n",
              "      <td>False</td>\n",
              "    </tr>\n",
              "    <tr>\n",
              "      <th>593</th>\n",
              "      <td>False</td>\n",
              "      <td>False</td>\n",
              "      <td>False</td>\n",
              "      <td>False</td>\n",
              "      <td>False</td>\n",
              "      <td>False</td>\n",
              "      <td>False</td>\n",
              "      <td>False</td>\n",
              "      <td>False</td>\n",
              "      <td>False</td>\n",
              "      <td>False</td>\n",
              "      <td>False</td>\n",
              "      <td>False</td>\n",
              "    </tr>\n",
              "    <tr>\n",
              "      <th>594</th>\n",
              "      <td>False</td>\n",
              "      <td>False</td>\n",
              "      <td>False</td>\n",
              "      <td>False</td>\n",
              "      <td>False</td>\n",
              "      <td>False</td>\n",
              "      <td>False</td>\n",
              "      <td>False</td>\n",
              "      <td>False</td>\n",
              "      <td>False</td>\n",
              "      <td>False</td>\n",
              "      <td>False</td>\n",
              "      <td>False</td>\n",
              "    </tr>\n",
              "    <tr>\n",
              "      <th>595</th>\n",
              "      <td>False</td>\n",
              "      <td>False</td>\n",
              "      <td>False</td>\n",
              "      <td>False</td>\n",
              "      <td>False</td>\n",
              "      <td>False</td>\n",
              "      <td>False</td>\n",
              "      <td>False</td>\n",
              "      <td>False</td>\n",
              "      <td>False</td>\n",
              "      <td>False</td>\n",
              "      <td>False</td>\n",
              "      <td>False</td>\n",
              "    </tr>\n",
              "    <tr>\n",
              "      <th>596</th>\n",
              "      <td>False</td>\n",
              "      <td>False</td>\n",
              "      <td>False</td>\n",
              "      <td>False</td>\n",
              "      <td>False</td>\n",
              "      <td>False</td>\n",
              "      <td>False</td>\n",
              "      <td>False</td>\n",
              "      <td>False</td>\n",
              "      <td>False</td>\n",
              "      <td>False</td>\n",
              "      <td>False</td>\n",
              "      <td>False</td>\n",
              "    </tr>\n",
              "    <tr>\n",
              "      <th>597</th>\n",
              "      <td>False</td>\n",
              "      <td>False</td>\n",
              "      <td>False</td>\n",
              "      <td>False</td>\n",
              "      <td>False</td>\n",
              "      <td>False</td>\n",
              "      <td>False</td>\n",
              "      <td>False</td>\n",
              "      <td>False</td>\n",
              "      <td>False</td>\n",
              "      <td>False</td>\n",
              "      <td>False</td>\n",
              "      <td>False</td>\n",
              "    </tr>\n",
              "    <tr>\n",
              "      <th>598</th>\n",
              "      <td>False</td>\n",
              "      <td>False</td>\n",
              "      <td>False</td>\n",
              "      <td>False</td>\n",
              "      <td>False</td>\n",
              "      <td>False</td>\n",
              "      <td>False</td>\n",
              "      <td>False</td>\n",
              "      <td>False</td>\n",
              "      <td>False</td>\n",
              "      <td>False</td>\n",
              "      <td>False</td>\n",
              "      <td>False</td>\n",
              "    </tr>\n",
              "    <tr>\n",
              "      <th>599</th>\n",
              "      <td>False</td>\n",
              "      <td>False</td>\n",
              "      <td>False</td>\n",
              "      <td>False</td>\n",
              "      <td>False</td>\n",
              "      <td>False</td>\n",
              "      <td>False</td>\n",
              "      <td>False</td>\n",
              "      <td>False</td>\n",
              "      <td>False</td>\n",
              "      <td>False</td>\n",
              "      <td>False</td>\n",
              "      <td>False</td>\n",
              "    </tr>\n",
              "    <tr>\n",
              "      <th>600</th>\n",
              "      <td>False</td>\n",
              "      <td>False</td>\n",
              "      <td>False</td>\n",
              "      <td>False</td>\n",
              "      <td>False</td>\n",
              "      <td>False</td>\n",
              "      <td>False</td>\n",
              "      <td>False</td>\n",
              "      <td>False</td>\n",
              "      <td>False</td>\n",
              "      <td>False</td>\n",
              "      <td>False</td>\n",
              "      <td>False</td>\n",
              "    </tr>\n",
              "    <tr>\n",
              "      <th>601</th>\n",
              "      <td>False</td>\n",
              "      <td>False</td>\n",
              "      <td>False</td>\n",
              "      <td>False</td>\n",
              "      <td>False</td>\n",
              "      <td>False</td>\n",
              "      <td>False</td>\n",
              "      <td>False</td>\n",
              "      <td>False</td>\n",
              "      <td>False</td>\n",
              "      <td>False</td>\n",
              "      <td>False</td>\n",
              "      <td>False</td>\n",
              "    </tr>\n",
              "    <tr>\n",
              "      <th>602</th>\n",
              "      <td>False</td>\n",
              "      <td>False</td>\n",
              "      <td>False</td>\n",
              "      <td>False</td>\n",
              "      <td>False</td>\n",
              "      <td>False</td>\n",
              "      <td>False</td>\n",
              "      <td>False</td>\n",
              "      <td>False</td>\n",
              "      <td>False</td>\n",
              "      <td>False</td>\n",
              "      <td>False</td>\n",
              "      <td>False</td>\n",
              "    </tr>\n",
              "    <tr>\n",
              "      <th>603</th>\n",
              "      <td>False</td>\n",
              "      <td>False</td>\n",
              "      <td>False</td>\n",
              "      <td>False</td>\n",
              "      <td>False</td>\n",
              "      <td>False</td>\n",
              "      <td>False</td>\n",
              "      <td>False</td>\n",
              "      <td>False</td>\n",
              "      <td>False</td>\n",
              "      <td>False</td>\n",
              "      <td>False</td>\n",
              "      <td>False</td>\n",
              "    </tr>\n",
              "    <tr>\n",
              "      <th>604</th>\n",
              "      <td>False</td>\n",
              "      <td>False</td>\n",
              "      <td>False</td>\n",
              "      <td>False</td>\n",
              "      <td>False</td>\n",
              "      <td>False</td>\n",
              "      <td>False</td>\n",
              "      <td>False</td>\n",
              "      <td>False</td>\n",
              "      <td>False</td>\n",
              "      <td>False</td>\n",
              "      <td>False</td>\n",
              "      <td>False</td>\n",
              "    </tr>\n",
              "    <tr>\n",
              "      <th>605</th>\n",
              "      <td>False</td>\n",
              "      <td>False</td>\n",
              "      <td>False</td>\n",
              "      <td>False</td>\n",
              "      <td>False</td>\n",
              "      <td>False</td>\n",
              "      <td>False</td>\n",
              "      <td>False</td>\n",
              "      <td>True</td>\n",
              "      <td>False</td>\n",
              "      <td>False</td>\n",
              "      <td>False</td>\n",
              "      <td>False</td>\n",
              "    </tr>\n",
              "    <tr>\n",
              "      <th>606</th>\n",
              "      <td>False</td>\n",
              "      <td>False</td>\n",
              "      <td>False</td>\n",
              "      <td>False</td>\n",
              "      <td>False</td>\n",
              "      <td>False</td>\n",
              "      <td>False</td>\n",
              "      <td>False</td>\n",
              "      <td>False</td>\n",
              "      <td>False</td>\n",
              "      <td>False</td>\n",
              "      <td>False</td>\n",
              "      <td>False</td>\n",
              "    </tr>\n",
              "    <tr>\n",
              "      <th>607</th>\n",
              "      <td>False</td>\n",
              "      <td>False</td>\n",
              "      <td>False</td>\n",
              "      <td>False</td>\n",
              "      <td>False</td>\n",
              "      <td>False</td>\n",
              "      <td>False</td>\n",
              "      <td>False</td>\n",
              "      <td>False</td>\n",
              "      <td>False</td>\n",
              "      <td>False</td>\n",
              "      <td>False</td>\n",
              "      <td>False</td>\n",
              "    </tr>\n",
              "    <tr>\n",
              "      <th>608</th>\n",
              "      <td>False</td>\n",
              "      <td>False</td>\n",
              "      <td>False</td>\n",
              "      <td>False</td>\n",
              "      <td>False</td>\n",
              "      <td>False</td>\n",
              "      <td>False</td>\n",
              "      <td>False</td>\n",
              "      <td>False</td>\n",
              "      <td>False</td>\n",
              "      <td>False</td>\n",
              "      <td>False</td>\n",
              "      <td>False</td>\n",
              "    </tr>\n",
              "    <tr>\n",
              "      <th>609</th>\n",
              "      <td>False</td>\n",
              "      <td>False</td>\n",
              "      <td>False</td>\n",
              "      <td>False</td>\n",
              "      <td>False</td>\n",
              "      <td>False</td>\n",
              "      <td>False</td>\n",
              "      <td>False</td>\n",
              "      <td>False</td>\n",
              "      <td>False</td>\n",
              "      <td>False</td>\n",
              "      <td>False</td>\n",
              "      <td>False</td>\n",
              "    </tr>\n",
              "    <tr>\n",
              "      <th>610</th>\n",
              "      <td>False</td>\n",
              "      <td>False</td>\n",
              "      <td>False</td>\n",
              "      <td>False</td>\n",
              "      <td>False</td>\n",
              "      <td>False</td>\n",
              "      <td>False</td>\n",
              "      <td>False</td>\n",
              "      <td>False</td>\n",
              "      <td>False</td>\n",
              "      <td>False</td>\n",
              "      <td>False</td>\n",
              "      <td>False</td>\n",
              "    </tr>\n",
              "    <tr>\n",
              "      <th>611</th>\n",
              "      <td>False</td>\n",
              "      <td>False</td>\n",
              "      <td>False</td>\n",
              "      <td>False</td>\n",
              "      <td>False</td>\n",
              "      <td>False</td>\n",
              "      <td>False</td>\n",
              "      <td>False</td>\n",
              "      <td>False</td>\n",
              "      <td>False</td>\n",
              "      <td>False</td>\n",
              "      <td>False</td>\n",
              "      <td>False</td>\n",
              "    </tr>\n",
              "    <tr>\n",
              "      <th>612</th>\n",
              "      <td>False</td>\n",
              "      <td>False</td>\n",
              "      <td>False</td>\n",
              "      <td>False</td>\n",
              "      <td>False</td>\n",
              "      <td>False</td>\n",
              "      <td>False</td>\n",
              "      <td>False</td>\n",
              "      <td>False</td>\n",
              "      <td>False</td>\n",
              "      <td>False</td>\n",
              "      <td>False</td>\n",
              "      <td>False</td>\n",
              "    </tr>\n",
              "    <tr>\n",
              "      <th>613</th>\n",
              "      <td>False</td>\n",
              "      <td>False</td>\n",
              "      <td>False</td>\n",
              "      <td>False</td>\n",
              "      <td>False</td>\n",
              "      <td>False</td>\n",
              "      <td>False</td>\n",
              "      <td>False</td>\n",
              "      <td>False</td>\n",
              "      <td>False</td>\n",
              "      <td>False</td>\n",
              "      <td>False</td>\n",
              "      <td>False</td>\n",
              "    </tr>\n",
              "  </tbody>\n",
              "</table>\n",
              "<p>614 rows × 13 columns</p>\n",
              "</div>"
            ],
            "text/plain": [
              "     Loan_ID  Gender  Married  Dependents  Education  Self_Employed  \\\n",
              "0      False   False    False       False      False          False   \n",
              "1      False   False    False       False      False          False   \n",
              "2      False   False    False       False      False          False   \n",
              "3      False   False    False       False      False          False   \n",
              "4      False   False    False       False      False          False   \n",
              "5      False   False    False       False      False          False   \n",
              "6      False   False    False       False      False          False   \n",
              "7      False   False    False       False      False          False   \n",
              "8      False   False    False       False      False          False   \n",
              "9      False   False    False       False      False          False   \n",
              "10     False   False    False       False      False          False   \n",
              "11     False   False    False       False      False          False   \n",
              "12     False   False    False       False      False          False   \n",
              "13     False   False    False       False      False          False   \n",
              "14     False   False    False       False      False          False   \n",
              "15     False   False    False       False      False          False   \n",
              "16     False   False    False       False      False          False   \n",
              "17     False   False    False       False      False          False   \n",
              "18     False   False    False       False      False          False   \n",
              "19     False   False    False       False      False          False   \n",
              "20     False   False    False       False      False          False   \n",
              "21     False   False    False       False      False          False   \n",
              "22     False   False    False       False      False          False   \n",
              "23     False   False    False       False      False          False   \n",
              "24     False   False    False       False      False          False   \n",
              "25     False   False    False       False      False          False   \n",
              "26     False   False    False       False      False          False   \n",
              "27     False   False    False       False      False          False   \n",
              "28     False   False    False       False      False          False   \n",
              "29     False   False    False       False      False          False   \n",
              "..       ...     ...      ...         ...        ...            ...   \n",
              "584    False   False    False       False      False          False   \n",
              "585    False   False    False       False      False          False   \n",
              "586    False   False    False       False      False          False   \n",
              "587    False   False    False       False      False          False   \n",
              "588    False   False    False       False      False          False   \n",
              "589    False   False    False       False      False          False   \n",
              "590    False   False    False       False      False          False   \n",
              "591    False   False    False       False      False          False   \n",
              "592    False   False    False       False      False          False   \n",
              "593    False   False    False       False      False          False   \n",
              "594    False   False    False       False      False          False   \n",
              "595    False   False    False       False      False          False   \n",
              "596    False   False    False       False      False          False   \n",
              "597    False   False    False       False      False          False   \n",
              "598    False   False    False       False      False          False   \n",
              "599    False   False    False       False      False          False   \n",
              "600    False   False    False       False      False          False   \n",
              "601    False   False    False       False      False          False   \n",
              "602    False   False    False       False      False          False   \n",
              "603    False   False    False       False      False          False   \n",
              "604    False   False    False       False      False          False   \n",
              "605    False   False    False       False      False          False   \n",
              "606    False   False    False       False      False          False   \n",
              "607    False   False    False       False      False          False   \n",
              "608    False   False    False       False      False          False   \n",
              "609    False   False    False       False      False          False   \n",
              "610    False   False    False       False      False          False   \n",
              "611    False   False    False       False      False          False   \n",
              "612    False   False    False       False      False          False   \n",
              "613    False   False    False       False      False          False   \n",
              "\n",
              "     ApplicantIncome  CoapplicantIncome  LoanAmount  Loan_Amount_Term  \\\n",
              "0              False              False        True             False   \n",
              "1              False              False       False             False   \n",
              "2              False              False       False             False   \n",
              "3              False              False       False             False   \n",
              "4              False              False       False             False   \n",
              "5              False              False       False             False   \n",
              "6              False              False       False             False   \n",
              "7              False              False       False             False   \n",
              "8              False              False       False             False   \n",
              "9              False              False       False             False   \n",
              "10             False              False       False             False   \n",
              "11             False              False       False             False   \n",
              "12             False              False       False             False   \n",
              "13             False              False       False             False   \n",
              "14             False              False       False             False   \n",
              "15             False              False       False             False   \n",
              "16             False              False       False             False   \n",
              "17             False              False       False             False   \n",
              "18             False              False       False             False   \n",
              "19             False              False       False              True   \n",
              "20             False              False       False             False   \n",
              "21             False              False       False             False   \n",
              "22             False              False       False             False   \n",
              "23             False              False       False             False   \n",
              "24             False              False       False             False   \n",
              "25             False              False       False             False   \n",
              "26             False              False       False             False   \n",
              "27             False              False       False             False   \n",
              "28             False              False       False             False   \n",
              "29             False              False       False             False   \n",
              "..               ...                ...         ...               ...   \n",
              "584            False              False       False             False   \n",
              "585            False              False       False             False   \n",
              "586            False              False       False             False   \n",
              "587            False              False       False             False   \n",
              "588            False              False       False             False   \n",
              "589            False              False       False             False   \n",
              "590            False              False       False             False   \n",
              "591            False              False       False             False   \n",
              "592            False              False       False             False   \n",
              "593            False              False       False             False   \n",
              "594            False              False       False             False   \n",
              "595            False              False       False             False   \n",
              "596            False              False       False             False   \n",
              "597            False              False       False             False   \n",
              "598            False              False       False             False   \n",
              "599            False              False       False             False   \n",
              "600            False              False       False             False   \n",
              "601            False              False       False             False   \n",
              "602            False              False       False             False   \n",
              "603            False              False       False             False   \n",
              "604            False              False       False             False   \n",
              "605            False              False        True             False   \n",
              "606            False              False       False             False   \n",
              "607            False              False       False             False   \n",
              "608            False              False       False             False   \n",
              "609            False              False       False             False   \n",
              "610            False              False       False             False   \n",
              "611            False              False       False             False   \n",
              "612            False              False       False             False   \n",
              "613            False              False       False             False   \n",
              "\n",
              "     Credit_History  Property_Area  Loan_Status  \n",
              "0             False          False        False  \n",
              "1             False          False        False  \n",
              "2             False          False        False  \n",
              "3             False          False        False  \n",
              "4             False          False        False  \n",
              "5             False          False        False  \n",
              "6             False          False        False  \n",
              "7             False          False        False  \n",
              "8             False          False        False  \n",
              "9             False          False        False  \n",
              "10            False          False        False  \n",
              "11            False          False        False  \n",
              "12            False          False        False  \n",
              "13            False          False        False  \n",
              "14            False          False        False  \n",
              "15            False          False        False  \n",
              "16            False          False        False  \n",
              "17            False          False        False  \n",
              "18            False          False        False  \n",
              "19            False          False        False  \n",
              "20            False          False        False  \n",
              "21            False          False        False  \n",
              "22            False          False        False  \n",
              "23            False          False        False  \n",
              "24            False          False        False  \n",
              "25            False          False        False  \n",
              "26            False          False        False  \n",
              "27            False          False        False  \n",
              "28            False          False        False  \n",
              "29            False          False        False  \n",
              "..              ...            ...          ...  \n",
              "584           False          False        False  \n",
              "585           False          False        False  \n",
              "586           False          False        False  \n",
              "587           False          False        False  \n",
              "588           False          False        False  \n",
              "589           False          False        False  \n",
              "590           False          False        False  \n",
              "591           False          False        False  \n",
              "592           False          False        False  \n",
              "593           False          False        False  \n",
              "594           False          False        False  \n",
              "595           False          False        False  \n",
              "596           False          False        False  \n",
              "597           False          False        False  \n",
              "598           False          False        False  \n",
              "599           False          False        False  \n",
              "600           False          False        False  \n",
              "601           False          False        False  \n",
              "602           False          False        False  \n",
              "603           False          False        False  \n",
              "604           False          False        False  \n",
              "605           False          False        False  \n",
              "606           False          False        False  \n",
              "607           False          False        False  \n",
              "608           False          False        False  \n",
              "609           False          False        False  \n",
              "610           False          False        False  \n",
              "611           False          False        False  \n",
              "612           False          False        False  \n",
              "613           False          False        False  \n",
              "\n",
              "[614 rows x 13 columns]"
            ]
          },
          "metadata": {
            "tags": []
          },
          "execution_count": 56
        }
      ]
    },
    {
      "cell_type": "markdown",
      "metadata": {
        "id": "kPwQCRgMoZcB",
        "colab_type": "text"
      },
      "source": [
        "find a way of filling the missing value in Loan_Amount_Term"
      ]
    },
    {
      "cell_type": "markdown",
      "metadata": {
        "id": "ntBCkakEolD7",
        "colab_type": "text"
      },
      "source": [
        ""
      ]
    },
    {
      "cell_type": "code",
      "metadata": {
        "id": "hIjOVYnjnwHg",
        "colab_type": "code",
        "outputId": "1622eb6b-50b4-4974-9293-949b9f48333e",
        "colab": {
          "base_uri": "https://localhost:8080/",
          "height": 217
        }
      },
      "source": [
        "train['Loan_Amount_Term'].value_counts()"
      ],
      "execution_count": 0,
      "outputs": [
        {
          "output_type": "execute_result",
          "data": {
            "text/plain": [
              "360.0    512\n",
              "180.0     44\n",
              "480.0     15\n",
              "300.0     13\n",
              "84.0       4\n",
              "240.0      4\n",
              "120.0      3\n",
              "36.0       2\n",
              "60.0       2\n",
              "12.0       1\n",
              "Name: Loan_Amount_Term, dtype: int64"
            ]
          },
          "metadata": {
            "tags": []
          },
          "execution_count": 57
        }
      ]
    },
    {
      "cell_type": "code",
      "metadata": {
        "id": "HIpN-IRrom8U",
        "colab_type": "code",
        "colab": {}
      },
      "source": [
        "train['Loan_Amount_Term'].fillna(train['Loan_Amount_Term'].mode()[0], inplace=True)"
      ],
      "execution_count": 0,
      "outputs": []
    },
    {
      "cell_type": "code",
      "metadata": {
        "id": "OR71qFHgo4Oy",
        "colab_type": "code",
        "colab": {}
      },
      "source": [
        "train['LoanAmount'].fillna(train['LoanAmount'].median(), inplace=True)"
      ],
      "execution_count": 0,
      "outputs": []
    },
    {
      "cell_type": "code",
      "metadata": {
        "id": "pfhN5crIpIE9",
        "colab_type": "code",
        "outputId": "a1e5fb8f-a543-43ad-ed34-b449afb43115",
        "colab": {
          "base_uri": "https://localhost:8080/",
          "height": 272
        }
      },
      "source": [
        "train.isnull().sum()"
      ],
      "execution_count": 0,
      "outputs": [
        {
          "output_type": "execute_result",
          "data": {
            "text/plain": [
              "Loan_ID              0\n",
              "Gender               0\n",
              "Married              0\n",
              "Dependents           0\n",
              "Education            0\n",
              "Self_Employed        0\n",
              "ApplicantIncome      0\n",
              "CoapplicantIncome    0\n",
              "LoanAmount           0\n",
              "Loan_Amount_Term     0\n",
              "Credit_History       0\n",
              "Property_Area        0\n",
              "Loan_Status          0\n",
              "dtype: int64"
            ]
          },
          "metadata": {
            "tags": []
          },
          "execution_count": 60
        }
      ]
    },
    {
      "cell_type": "code",
      "metadata": {
        "id": "x9YcYye-pMop",
        "colab_type": "code",
        "colab": {}
      },
      "source": [
        "test['Gender'].fillna(train['Gender'].mode()[0], inplace=True)\n",
        "test['Dependents'].fillna(train['Dependents'].mode()[0], inplace=True) \n",
        "test['Self_Employed'].fillna(train['Self_Employed'].mode()[0], inplace=True) \n",
        "test['Credit_History'].fillna(train['Credit_History'].mode()[0], inplace=True) \n",
        "test['Loan_Amount_Term'].fillna(train['Loan_Amount_Term'].mode()[0], inplace=True)\n",
        "test['LoanAmount'].fillna(train['LoanAmount'].median(), inplace=True)\n",
        "\n",
        "\n",
        "\n",
        "\n",
        "\n",
        "\n",
        "\n"
      ],
      "execution_count": 0,
      "outputs": []
    },
    {
      "cell_type": "code",
      "metadata": {
        "id": "M_byd3TbpkKZ",
        "colab_type": "code",
        "outputId": "e659f94a-8e15-4884-facd-e505c20e1c45",
        "colab": {
          "base_uri": "https://localhost:8080/",
          "height": 269
        }
      },
      "source": [
        "train['LoanAmount_log'] = np.log(train['LoanAmount']) \n",
        "train['LoanAmount_log'].hist(bins=20) \n",
        "test['LoanAmount_log'] = np.log(test['LoanAmount'])"
      ],
      "execution_count": 0,
      "outputs": [
        {
          "output_type": "display_data",
          "data": {
            "image/png": "iVBORw0KGgoAAAANSUhEUgAAAXoAAAD8CAYAAAB5Pm/hAAAABHNCSVQICAgIfAhkiAAAAAlwSFlz\nAAALEgAACxIB0t1+/AAAADl0RVh0U29mdHdhcmUAbWF0cGxvdGxpYiB2ZXJzaW9uIDMuMC4zLCBo\ndHRwOi8vbWF0cGxvdGxpYi5vcmcvnQurowAAEalJREFUeJzt3W+MZXd93/H3J14Ii7fxQkyn1q7V\nsYJFRdm2MSOXyC26i9vUxAj7AaJGDrGpq1VVh9JmJbLQB7QPkBy1DnGkFmlrEzaqw+IakK2Y0FiO\nb1Ck2smu+bP+Q8rKWfCubC8RtpNxUKJJvn0wh2q0M+zs3HPv3Du/eb+k1d7zu+fPV1/d+9kzvz3n\nTKoKSVK7fmzaBUiSJsugl6TGGfSS1DiDXpIaZ9BLUuMMeklqnEEvSY0z6CWpcQa9JDVux7QLALj0\n0ktrfn6eV199lYsvvnja5cwc+7KaPVmbfVlbq305fvz4n1bVm9ZbbyaCfn5+nmPHjjEcDhkMBtMu\nZ+bYl9Xsydrsy9pa7UuS71zIek7dSFLjDHpJapxBL0mNM+glqXEGvSQ1zqCXpMYZ9JLUOINekhpn\n0EtS42bizlhJq80femjD2xzct8Sthx7i1B3XT6AibVWe0UtS4wx6SWqcQS9JjTPoJalxBr0kNc6g\nl6TGGfSS1DiDXpIaZ9BLUuMMeklq3LpBn+QzSc4meXKN9w4mqSSXdstJ8utJTib5ZpKrJlG0JOnC\nXcgZ/WeB684dTHI58LPAd1cMvxu4svtzAPh0/xIlSX2sG/RV9VXg+2u89Sngo0CtGLsB+M1a9hiw\nO8llY6lUkjSSkebok9wAnKmqb5zz1h7guRXLp7sxSdKUbPgxxUleD3yc5WmbkSU5wPL0DnNzcwyH\nQxYXFxkOh3122yT7stp26MnBfUsb3mZu5/J2rfdmo7bD5+V8Rnke/U8BVwDfSAKwF3giydXAGeDy\nFevu7cZWqarDwGGAhYWFGgwGDIdDBoPBCCW1zb6sth16cuuIz6O/88QOTt08GH9BW9h2+Lycz4an\nbqrqRFX97aqar6p5lqdnrqqqF4AHgV/orr55B/BKVT0/3pIlSRtxIZdXfg74P8BbkpxOctt5Vv8y\n8CxwEvgfwL8dS5WSpJGtO3VTVR9Y5/35Fa8LuL1/WVIbRvl1gNK4eWesJDXOoJekxhn0ktQ4g16S\nGmfQS1LjDHpJapxBL0mNM+glqXEGvSQ1zqCXpMYZ9JLUOINekhpn0EtS4wx6SWqcQS9JjTPoJalx\nBr0kNc6gl6TGGfSS1LgL+eXgn0lyNsmTK8b+S5JvJflmki8l2b3ivY8lOZnkj5P8i0kVLkm6MBdy\nRv9Z4Lpzxh4G3lZV/wD4v8DHAJK8FbgJ+PvdNv89yUVjq1aStGHrBn1VfRX4/jljv1tVS93iY8De\n7vUNwNGq+suq+hPgJHD1GOuVJG3QjjHs418Bn+9e72E5+H/odDe2SpIDwAGAubk5hsMhi4uLDIfD\nMZTUFvuy2lbpycF9S+uvNEZzO5ePuRV6s5m2yudlUnoFfZL/CCwB925026o6DBwGWFhYqMFgwHA4\nZDAY9CmpSfZlta3Sk1sPPbSpxzu4b4k7T+zg1M2DTT3urNsqn5dJGTnok9wKvAe4tqqqGz4DXL5i\ntb3dmCRpSka6vDLJdcBHgfdW1V+seOtB4KYkP57kCuBK4A/7lylJGtW6Z/RJPgcMgEuTnAY+wfJV\nNj8OPJwE4LGq+jdV9VSS+4CnWZ7Sub2q/npSxUuS1rdu0FfVB9YYvuc8638S+GSfoiRJ4+OdsZLU\nOINekhpn0EtS4wx6SWqcQS9JjTPoJalxBr0kNc6gl6TGGfSS1DiDXpIaZ9BLUuMMeklqnEEvSY0z\n6CWpcQa9JDXOoJekxhn0ktQ4g16SGrdu0Cf5TJKzSZ5cMfbGJA8n+Xb39xu68ST59SQnk3wzyVWT\nLF6StL4LOaP/LHDdOWOHgEeq6krgkW4Z4N3Ald2fA8Cnx1OmJGlU6wZ9VX0V+P45wzcAR7rXR4Ab\nV4z/Zi17DNid5LJxFStJ2rhR5+jnqur57vULwFz3eg/w3Ir1TndjkqQp2dF3B1VVSWqj2yU5wPL0\nDnNzcwyHQxYXFxkOh31Lao59WW2r9OTgvqVNPd7czuVjboXebKat8nmZlFGD/sUkl1XV893UzNlu\n/Axw+Yr19nZjq1TVYeAwwMLCQg0GA4bDIYPBYMSS2mVfVtsqPbn10EOberyD+5a488QOOPHqyPs4\ndcf1Y6xoNmyVz8ukjDp18yBwS/f6FuCBFeO/0F198w7glRVTPJKkKVj3jD7J54ABcGmS08AngDuA\n+5LcBnwHeH+3+peBnwNOAn8BfGgCNUuSNmDdoK+qD/yIt65dY90Cbu9blCRpfLwzVpIaZ9BLUuMM\neklqnEEvSY0z6CWpcQa9JDXOoJekxhn0ktQ4g16SGmfQS1LjDHpJapxBL0mNM+glqXEGvSQ1zqCX\npMYZ9JLUOINekhpn0EtS43oFfZL/kOSpJE8m+VyS1yW5IsnjSU4m+XyS146rWEnSxo0c9En2AP8O\nWKiqtwEXATcBvwJ8qqreDLwE3DaOQiVJo+k7dbMD2JlkB/B64HngXcD93ftHgBt7HkOS1MPIQV9V\nZ4D/CnyX5YB/BTgOvFxVS91qp4E9fYuUJI0uVTXahskbgC8A/xJ4GfhfLJ/J/6du2oYklwO/003t\nnLv9AeAAwNzc3NuPHj3K4uIiu3btGqmeltmX1bZKT06ceWVTjze3E178Qb997NtzyXiKmSFb5fOy\nUfv37z9eVQvrrbejxzH+GfAnVfU9gCRfBK4BdifZ0Z3V7wXOrLVxVR0GDgMsLCzUYDBgOBwyGAx6\nlNQm+7LaVunJrYce2tTjHdy3xJ0n+nyt4dTNg/EUM0O2yudlUvrM0X8XeEeS1ycJcC3wNPAo8L5u\nnVuAB/qVKEnqo88c/eMsT9U8AZzo9nUY+GXgl5KcBH4SuGcMdUqSRtTrZ7yq+gTwiXOGnwWu7rNf\nSdL4eGesJDXOoJekxhn0ktQ4g16SGmfQS1LjDHpJapxBL0mNM+glqXEGvSQ1zqCXpMYZ9JLUOINe\nkhpn0EtS4wx6SWqcQS9JjTPoJalxBr0kNc6gl6TG9ft18dI2MH/ooWmXIPXS64w+ye4k9yf5VpJn\nkvxMkjcmeTjJt7u/3zCuYiVJG9d36uYu4CtV9feAfwg8AxwCHqmqK4FHumVJ0pSMHPRJLgHeCdwD\nUFV/VVUvAzcAR7rVjgA39i1SkjS6Pmf0VwDfA34jydeS3J3kYmCuqp7v1nkBmOtbpCRpdKmq0TZM\nFoDHgGuq6vEkdwF/Bny4qnavWO+lqlo1T5/kAHAAYG5u7u1Hjx5lcXGRXbt2jVRPy+zLapvZkxNn\nXtmU44zD3E548Qf99rFvzyXjKWaGtPod2r9///GqWlhvvT5B/3eAx6pqvlv+pyzPx78ZGFTV80ku\nA4ZV9Zbz7WthYaGOHTvGcDhkMBiMVE/L7Mtqm9mTrXTVzcF9S9x5ot/FdKfuuH5M1cyOVr9DSS4o\n6EeeuqmqF4DnkvwwxK8FngYeBG7pxm4BHhj1GJKk/vpeR/9h4N4krwWeBT7E8j8e9yW5DfgO8P6e\nx5Ak9dAr6Kvq68BaPzZc22e/kqTx8REIktQ4g16SGmfQS1LjDHpJapxBL0mNM+glqXEGvSQ1zqCX\npMYZ9JLUOINekhpn0EtS4wx6SWqcQS9JjTPoJalxBr0kNc6gl6TGGfSS1DiDXpIa1zvok1yU5GtJ\nfrtbviLJ40lOJvl89/tkJUlTMo4z+o8Az6xY/hXgU1X1ZuAl4LYxHEOSNKJeQZ9kL3A9cHe3HOBd\nwP3dKkeAG/scQ5LUT98z+l8DPgr8Tbf8k8DLVbXULZ8G9vQ8hiSphx2jbpjkPcDZqjqeZDDC9geA\nAwBzc3MMh0MWFxcZDoejltQs+7LaZvbk4L6l9VeaEXM7+9fb4mdtu3+HRg564BrgvUl+Dngd8BPA\nXcDuJDu6s/q9wJm1Nq6qw8BhgIWFhRoMBgyHQwaDQY+S2mRfVtvMntx66KFNOc44HNy3xJ0n+nyt\n4dTNg/EUM0O2+3do5KmbqvpYVe2tqnngJuD3qupm4FHgfd1qtwAP9K5SkjSySVxH/8vALyU5yfKc\n/T0TOIYk6QL1+xmvU1VDYNi9fha4ehz7lST1552xktQ4g16SGmfQS1LjDHpJapxBL0mNM+glqXFj\nubxSmmXzW+jO1lnQt1+n7rh+TJVoXDyjl6TGGfSS1DiDXpIa5xy9pLHqM8fv/P5keEYvSY0z6CWp\ncQa9JDXOoJekxhn0ktQ4g16SGmfQS1LjDHpJatzIQZ/k8iSPJnk6yVNJPtKNvzHJw0m+3f39hvGV\nK0naqD5n9EvAwap6K/AO4PYkbwUOAY9U1ZXAI92yJGlKRg76qnq+qp7oXv858AywB7gBONKtdgS4\nsW+RkqTRpar67ySZB74KvA34blXt7sYDvPTD5XO2OQAcAJibm3v70aNHWVxcZNeuXb3raY19WW0j\nPTlx5pUJVzM75nbCiz+YdhWj27fnkonst9Xv0P79+49X1cJ66/UO+iS7gN8HPllVX0zy8spgT/JS\nVZ13nn5hYaGOHTvGcDhkMBj0qqdF9mW1jfRkO/3ikYP7lrjzxNZ9VuGkHmrW6ncoyQUFfa+rbpK8\nBvgCcG9VfbEbfjHJZd37lwFn+xxDktRPn6tuAtwDPFNVv7rirQeBW7rXtwAPjF6eJKmvPj/jXQN8\nEDiR5Ovd2MeBO4D7ktwGfAd4f78SpdXTLwf3LXHrNpqSkfoYOeir6g+A/Ii3rx11v5Kk8fLOWElq\nnEEvSY0z6CWpcQa9JDVu695ZIak5fW5um9TNVi0w6LVpttMdqtIscepGkhpn0EtS4wx6SWqcQS9J\njTPoJalxBr0kNc7LKyVte30v/Z31a/g9o5ekxnlGL6kJ5zsr3+6/v8Cgl6SeZv3RDQa9NsTHGEhb\nj3P0ktS4iZ3RJ7kOuAu4CLi7qu6Y1LG2m9avEJA0XhMJ+iQXAf8N+OfAaeCPkjxYVU9P4njaGKdf\npO1lUmf0VwMnq+pZgCRHgRuAsQf9NM9uZ/0/YCQJJjdHvwd4bsXy6W5MkrTJUlXj32nyPuC6qvrX\n3fIHgX9cVb+4Yp0DwIFu8S3AHwOXAn869oK2Pvuymj1Zm31ZW6t9+btV9ab1VprU1M0Z4PIVy3u7\nsf+vqg4Dh1eOJTlWVQsTqmnLsi+r2ZO12Ze1bfe+TGrq5o+AK5NckeS1wE3AgxM6liTpPCZyRl9V\nS0l+EfjfLF9e+ZmqemoSx5Iknd/ErqOvqi8DX97gZofXX2Vbsi+r2ZO12Ze1beu+TOQ/YyVJs8NH\nIEhS46Ye9EkuT/JokqeTPJXkI9OuaRYkeV2SP0zyja4v/3naNc2SJBcl+VqS3552LbMiyakkJ5J8\nPcmxadczK5LsTnJ/km8leSbJz0y7ps02C0+vXAIOVtUTSf4WcDzJwz4ugb8E3lVVi0leA/xBkt+p\nqsemXdiM+AjwDPAT0y5kxuyvqhavF+/jLuArVfW+7irA10+7oM029TP6qnq+qp7oXv85y1/ebX8X\nbS1b7BZf0/3xP1SAJHuB64G7p12LZluSS4B3AvcAVNVfVdXL061q80096FdKMg/8NPD4dCuZDd30\nxNeBs8DDVWVflv0a8FHgb6ZdyIwp4HeTHO/uPBdcAXwP+I1uqu/uJBdPu6jNNjNBn2QX8AXg31fV\nn027nllQVX9dVf+I5TuLr07ytmnXNG1J3gOcrarj065lBv2TqroKeDdwe5J3TrugGbADuAr4dFX9\nNPAqcGi6JW2+mQj6bg76C8C9VfXFadcza7ofNR8Frpt2LTPgGuC9SU4BR4F3Jfmf0y1pNlTVme7v\ns8CXWH6K7HZ3Gji94qfh+1kO/m1l6kGfJCzPnz1TVb867XpmRZI3Jdndvd7J8rP9vzXdqqavqj5W\nVXurap7lR2v8XlX9/JTLmrokF3cXM9BNTfws8OR0q5q+qnoBeC7JW7qha5nA49Jn3SxcdXMN8EHg\nRDcfDfDx7s7a7ewy4Ej3S1x+DLivqryUUD/KHPCl5fMmdgC/VVVfmW5JM+PDwL3dFTfPAh+acj2b\nzjtjJalxU5+6kSRNlkEvSY0z6CWpcQa9JDXOoJekxhn0ktQ4g16SGmfQS1Lj/h9jZQ4y7z3yzAAA\nAABJRU5ErkJggg==\n",
            "text/plain": [
              "<Figure size 432x288 with 1 Axes>"
            ]
          },
          "metadata": {
            "tags": []
          }
        }
      ]
    },
    {
      "cell_type": "code",
      "metadata": {
        "id": "7Zr1ebTZqRjB",
        "colab_type": "code",
        "colab": {}
      },
      "source": [
        ""
      ],
      "execution_count": 0,
      "outputs": []
    },
    {
      "cell_type": "markdown",
      "metadata": {
        "id": "RfX_vEIWs7Dj",
        "colab_type": "text"
      },
      "source": [
        "Precision: It is a measure of correctness achieved in true prediction i.e. of observations labeled as true, how many are actually labeled true.\n",
        "Precision = TP / (TP + FP)\n",
        "\n",
        "Recall(Sensitivity) - It is a measure of actual observations which are predicted correctly i.e. how many observations of true class are labeled correctly. It is also known as ‘Sensitivity’.\n",
        "Recall = TP / (TP + FN)\n",
        "\n",
        "Specificity - It is a measure of how many observations of false class are labeled correctly.\n",
        "Specificity = TN / (TN + FP)\n",
        "\n",
        "Specificity and Sensitivity plays a crucial role in deriving ROC curve.\n",
        "\n",
        "ROC curve\n",
        "Receiver Operating Characteristic(ROC) summarizes the model’s performance by evaluating the trade offs between true positive rate (sensitivity) and false positive rate(1- specificity).\n",
        "The area under curve (AUC), referred to as index of accuracy(A) or concordance index, is a perfect performance metric for ROC curve. Higher the area under curve, better the prediction power of the model."
      ]
    },
    {
      "cell_type": "code",
      "metadata": {
        "id": "LR7SI96es9y2",
        "colab_type": "code",
        "colab": {}
      },
      "source": [
        ""
      ],
      "execution_count": 0,
      "outputs": []
    },
    {
      "cell_type": "markdown",
      "metadata": {
        "id": "PiJgDBKju7Cu",
        "colab_type": "text"
      },
      "source": [
        "Lets drop the Loan_ID variable as it do not have any effect on the loan status. We will do the same changes to the test dataset which we did for the training dataset"
      ]
    },
    {
      "cell_type": "code",
      "metadata": {
        "id": "MZdKgrRTu8cs",
        "colab_type": "code",
        "colab": {}
      },
      "source": [
        "train=train.drop('Loan_ID',axis=1) \n",
        "test=test.drop('Loan_ID',axis=1)"
      ],
      "execution_count": 0,
      "outputs": []
    },
    {
      "cell_type": "code",
      "metadata": {
        "id": "5turgkXpvBJC",
        "colab_type": "code",
        "colab": {}
      },
      "source": [
        ""
      ],
      "execution_count": 0,
      "outputs": []
    },
    {
      "cell_type": "markdown",
      "metadata": {
        "id": "bo695KbfvTxJ",
        "colab_type": "text"
      },
      "source": [
        "We will use scikit-learn (sklearn) for making different models which is an open source library for Python. It is one of the most efficient tool which contains many inbuilt functions that can be used for modeling in Python.\n",
        "\n",
        "To learn further about sklearn, refer here: http://scikit-learn.org/stable/tutorial/index.html\n",
        "\n",
        "Sklearn requires the target variable in a separate dataset. So, we will drop our target variable from the train dataset and save it in another dataset."
      ]
    },
    {
      "cell_type": "code",
      "metadata": {
        "id": "wJfxLIcAvV1m",
        "colab_type": "code",
        "colab": {}
      },
      "source": [
        "X = train.drop('Loan_Status',1) \n",
        "y = train.Loan_Status"
      ],
      "execution_count": 0,
      "outputs": []
    },
    {
      "cell_type": "code",
      "metadata": {
        "id": "KbA7SRF8vc9r",
        "colab_type": "code",
        "colab": {}
      },
      "source": [
        ""
      ],
      "execution_count": 0,
      "outputs": []
    },
    {
      "cell_type": "markdown",
      "metadata": {
        "id": "2Mu5DeDJv4HI",
        "colab_type": "text"
      },
      "source": [
        "Consider the “Gender” variable. It has two classes, Male and Female.\n",
        "As logistic regression takes only the numerical values as input, we have to change male and female into numerical value.\n",
        "Once we apply dummies to this variable, it will convert the “Gender” variable into two variables(Gender_Male and Gender_Female), one for each class, i.e. Male and Female.\n",
        "Gender_Male will have a value of 0 if the gender is Female and a value of 1 if the gender is Male."
      ]
    },
    {
      "cell_type": "code",
      "metadata": {
        "id": "xnoLgrGav6XJ",
        "colab_type": "code",
        "colab": {}
      },
      "source": [
        "X=pd.get_dummies(X) \n",
        "train=pd.get_dummies(train) \n",
        "test=pd.get_dummies(test)"
      ],
      "execution_count": 0,
      "outputs": []
    },
    {
      "cell_type": "code",
      "metadata": {
        "id": "uHpHE5Wyv6M8",
        "colab_type": "code",
        "colab": {}
      },
      "source": [
        "from sklearn.model_selection import train_test_split"
      ],
      "execution_count": 0,
      "outputs": []
    },
    {
      "cell_type": "code",
      "metadata": {
        "id": "3Jn-g2IKwifd",
        "colab_type": "code",
        "colab": {}
      },
      "source": [
        "x_train, x_cv, y_train, y_cv = train_test_split(X,y, test_size =0.25)"
      ],
      "execution_count": 0,
      "outputs": []
    },
    {
      "cell_type": "code",
      "metadata": {
        "id": "zLQ5yb89ws1h",
        "colab_type": "code",
        "outputId": "8af4e8a4-5f13-4f79-f68d-ad6570088bac",
        "colab": {
          "base_uri": "https://localhost:8080/",
          "height": 146
        }
      },
      "source": [
        "from sklearn.linear_model import LogisticRegression \n",
        "from sklearn.metrics import accuracy_score\n",
        "model = LogisticRegression() \n",
        "model.fit(x_train, y_train)"
      ],
      "execution_count": 0,
      "outputs": [
        {
          "output_type": "stream",
          "text": [
            "/usr/local/lib/python3.6/dist-packages/sklearn/linear_model/logistic.py:433: FutureWarning: Default solver will be changed to 'lbfgs' in 0.22. Specify a solver to silence this warning.\n",
            "  FutureWarning)\n"
          ],
          "name": "stderr"
        },
        {
          "output_type": "execute_result",
          "data": {
            "text/plain": [
              "LogisticRegression(C=1.0, class_weight=None, dual=False, fit_intercept=True,\n",
              "          intercept_scaling=1, max_iter=100, multi_class='warn',\n",
              "          n_jobs=None, penalty='l2', random_state=None, solver='warn',\n",
              "          tol=0.0001, verbose=0, warm_start=False)"
            ]
          },
          "metadata": {
            "tags": []
          },
          "execution_count": 89
        }
      ]
    },
    {
      "cell_type": "code",
      "metadata": {
        "id": "eIxiyFPLw0ZU",
        "colab_type": "code",
        "colab": {}
      },
      "source": [
        "pred_cv = model.predict(x_cv)"
      ],
      "execution_count": 0,
      "outputs": []
    },
    {
      "cell_type": "code",
      "metadata": {
        "id": "03xGYgVXxmum",
        "colab_type": "code",
        "outputId": "ddb15361-e942-4228-f6ca-afc9b8697228",
        "colab": {
          "base_uri": "https://localhost:8080/",
          "height": 35
        }
      },
      "source": [
        "accuracy_score(y_cv,pred_cv)"
      ],
      "execution_count": 0,
      "outputs": [
        {
          "output_type": "execute_result",
          "data": {
            "text/plain": [
              "0.8376623376623377"
            ]
          },
          "metadata": {
            "tags": []
          },
          "execution_count": 91
        }
      ]
    },
    {
      "cell_type": "code",
      "metadata": {
        "id": "aMsMF2Ofx0k_",
        "colab_type": "code",
        "colab": {}
      },
      "source": [
        "pred_test = model.predict(test)"
      ],
      "execution_count": 0,
      "outputs": []
    },
    {
      "cell_type": "code",
      "metadata": {
        "id": "rZPnJrCIylcW",
        "colab_type": "code",
        "colab": {}
      },
      "source": [
        "submission=pd.read_csv(\"sample_submission_S7jWYrJ.csv\")"
      ],
      "execution_count": 0,
      "outputs": []
    },
    {
      "cell_type": "code",
      "metadata": {
        "id": "oQimPQh2yzBw",
        "colab_type": "code",
        "colab": {}
      },
      "source": [
        "submission['Loan_Status']=pred_test \n",
        "submission['Loan_ID']=test_original['Loan_ID']"
      ],
      "execution_count": 0,
      "outputs": []
    },
    {
      "cell_type": "code",
      "metadata": {
        "id": "b6ejA6S90p4i",
        "colab_type": "code",
        "colab": {}
      },
      "source": [
        "submission['Loan_Status'].replace(0, 'N',inplace=True) \n",
        "submission['Loan_Status'].replace(1, 'Y',inplace=True)"
      ],
      "execution_count": 0,
      "outputs": []
    },
    {
      "cell_type": "code",
      "metadata": {
        "id": "0eivLM4L01yV",
        "colab_type": "code",
        "colab": {}
      },
      "source": [
        "pd.DataFrame(submission, columns=['Loan_ID','Loan_Status']).to_csv('logistic.csv')"
      ],
      "execution_count": 0,
      "outputs": []
    },
    {
      "cell_type": "code",
      "metadata": {
        "id": "J-fvxNol1DMe",
        "colab_type": "code",
        "colab": {}
      },
      "source": [
        ""
      ],
      "execution_count": 0,
      "outputs": []
    }
  ]
}
